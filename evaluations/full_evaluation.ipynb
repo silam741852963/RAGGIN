{
 "cells": [
  {
   "cell_type": "code",
   "execution_count": 1,
   "metadata": {},
   "outputs": [],
   "source": [
    "# get testcase\n",
    "import os\n",
    "import pandas as pd\n",
    "pd.set_option('display.max_colwidth', None)\n",
    "\n",
    "simple_queries = pd.read_csv(\"simpleQueries.csv\", sep=\";\", encoding=\"utf-8\")\n",
    "complex_queries = pd.read_csv(\"complexQueries.csv\", sep=\",\", encoding=\"cp1252\")\n",
    "\n",
    "data_file = pd.read_csv(\"v15.3.1.csv\", sep=\",\", encoding=\"utf-8\")\n",
    "data_file = data_file[['entry_id', 'title']]"
   ]
  },
  {
   "cell_type": "code",
   "execution_count": 2,
   "metadata": {},
   "outputs": [
    {
     "data": {
      "text/html": [
       "<div>\n",
       "<style scoped>\n",
       "    .dataframe tbody tr th:only-of-type {\n",
       "        vertical-align: middle;\n",
       "    }\n",
       "\n",
       "    .dataframe tbody tr th {\n",
       "        vertical-align: top;\n",
       "    }\n",
       "\n",
       "    .dataframe thead th {\n",
       "        text-align: right;\n",
       "    }\n",
       "</style>\n",
       "<table border=\"1\" class=\"dataframe\">\n",
       "  <thead>\n",
       "    <tr style=\"text-align: right;\">\n",
       "      <th></th>\n",
       "      <th>Question</th>\n",
       "      <th>Expected</th>\n",
       "    </tr>\n",
       "  </thead>\n",
       "  <tbody>\n",
       "    <tr>\n",
       "      <th>0</th>\n",
       "      <td>How to use Route Group?</td>\n",
       "      <td>v15_3_1_08-route-groups_convention,v15_3_1_11-parallel-routes_examples,v15_3_1_invalid-href-passed_useful links,v15_3_1_invalid-relative-url-external-as_useful links,v15_3_1_react-hydration-error_possible ways to fix it</td>\n",
       "    </tr>\n",
       "    <tr>\n",
       "      <th>1</th>\n",
       "      <td>How to generate static params in Dynamic Routes?</td>\n",
       "      <td>v15_3_1_10-dynamic-routes_example,v15_3_1_10-dynamic-routes_generating static params,v15_3_1_react-hydration-error_possible ways to fix it,v15_3_1_16-progressive-web-apps_creating a pwa with next_js,v15_3_1_index_apis</td>\n",
       "    </tr>\n",
       "    <tr>\n",
       "      <th>2</th>\n",
       "      <td>How to use Parallel Routes?</td>\n",
       "      <td>v15_3_1_react-hydration-error_possible ways to fix it,v15_3_1_16-progressive-web-apps_creating a pwa with next_js,v15_3_1_index_apis</td>\n",
       "    </tr>\n",
       "    <tr>\n",
       "      <th>3</th>\n",
       "      <td>What is the naming convention for Intercepting Routes, show me some examples.</td>\n",
       "      <td>v15_3_1_12-intercepting-routes_convention,v15_3_1_next-prerender-sync-request_useful links,v15_3_1_invalid-i18n-config_useful links,v15_3_1_react-hydration-error_possible ways to fix it</td>\n",
       "    </tr>\n",
       "    <tr>\n",
       "      <th>4</th>\n",
       "      <td>What is Middleware and when does it run?</td>\n",
       "      <td>v15_3_1_react-hydration-error_possible ways to fix it,v15_3_1_16-progressive-web-apps_creating a pwa with next_js,v15_3_1_07-amp_amp validation,v15_3_1_index_apis,v15_3_1_image_advanced props</td>\n",
       "    </tr>\n",
       "  </tbody>\n",
       "</table>\n",
       "</div>"
      ],
      "text/plain": [
       "                                                                        Question  \\\n",
       "0                                                        How to use Route Group?   \n",
       "1                               How to generate static params in Dynamic Routes?   \n",
       "2                                                    How to use Parallel Routes?   \n",
       "3  What is the naming convention for Intercepting Routes, show me some examples.   \n",
       "4                                       What is Middleware and when does it run?   \n",
       "\n",
       "                                                                                                                                                                                                                      Expected  \n",
       "0  v15_3_1_08-route-groups_convention,v15_3_1_11-parallel-routes_examples,v15_3_1_invalid-href-passed_useful links,v15_3_1_invalid-relative-url-external-as_useful links,v15_3_1_react-hydration-error_possible ways to fix it  \n",
       "1    v15_3_1_10-dynamic-routes_example,v15_3_1_10-dynamic-routes_generating static params,v15_3_1_react-hydration-error_possible ways to fix it,v15_3_1_16-progressive-web-apps_creating a pwa with next_js,v15_3_1_index_apis  \n",
       "2                                                                                         v15_3_1_react-hydration-error_possible ways to fix it,v15_3_1_16-progressive-web-apps_creating a pwa with next_js,v15_3_1_index_apis  \n",
       "3                                    v15_3_1_12-intercepting-routes_convention,v15_3_1_next-prerender-sync-request_useful links,v15_3_1_invalid-i18n-config_useful links,v15_3_1_react-hydration-error_possible ways to fix it  \n",
       "4                              v15_3_1_react-hydration-error_possible ways to fix it,v15_3_1_16-progressive-web-apps_creating a pwa with next_js,v15_3_1_07-amp_amp validation,v15_3_1_index_apis,v15_3_1_image_advanced props  "
      ]
     },
     "execution_count": 2,
     "metadata": {},
     "output_type": "execute_result"
    }
   ],
   "source": [
    "simple_queries.head()"
   ]
  },
  {
   "cell_type": "code",
   "execution_count": 3,
   "metadata": {},
   "outputs": [
    {
     "data": {
      "text/html": [
       "<div>\n",
       "<style scoped>\n",
       "    .dataframe tbody tr th:only-of-type {\n",
       "        vertical-align: middle;\n",
       "    }\n",
       "\n",
       "    .dataframe tbody tr th {\n",
       "        vertical-align: top;\n",
       "    }\n",
       "\n",
       "    .dataframe thead th {\n",
       "        text-align: right;\n",
       "    }\n",
       "</style>\n",
       "<table border=\"1\" class=\"dataframe\">\n",
       "  <thead>\n",
       "    <tr style=\"text-align: right;\">\n",
       "      <th></th>\n",
       "      <th>Question</th>\n",
       "      <th>Expected</th>\n",
       "    </tr>\n",
       "  </thead>\n",
       "  <tbody>\n",
       "    <tr>\n",
       "      <th>0</th>\n",
       "      <td>How can I implement a dynamic post editing feature in a Next.js application using the App Router?\\n\\nThe post editing form is a Client Component utilizing useState for local state management.?\\n\\nThe form submits data to a Server Action defined with the \"use server\" directive.?\\n\\nUpon successful submission, the application revalidates the cache for the updated post and redirects the user to the post's detail page.?\\n\\nThe application provides feedback to the user during the submission process, such as loading indicators and error messages.?\\n\\nAdditionally, how can I ensure that sensitive operations, like updating the post in the database, are securely handled on the server side, and that the client does not have direct access to sensitive information??\\n\\nPlease provide code snippets in TypeScript that demonstrate this functionality.</td>\n",
       "      <td>v15_3_1_react-hydration-error_possible ways to fix it,v15_3_1_07-amp_amp validation,v15_3_1_10-dynamic-routes_convention,v15_3_1_10-dynamic-routes_example,v15_3_1_10-dynamic-routes_typescript</td>\n",
       "    </tr>\n",
       "    <tr>\n",
       "      <th>1</th>\n",
       "      <td>How can I implement a responsive image gallery in a Next.js application using the App Router?\\n\\nImages are stored in the public directory and served as static assets.?\\n\\nThe gallery utilizes the next/image component to optimize images for different device sizes and resolutions.?\\n\\nThe application ensures that images are lazy-loaded and do not cause layout shifts during loading.?\\n\\nThe gallery supports both local images from the public directory and remote images from a trusted external source, with appropriate configuration in next.config.js.?\\n\\nThe application provides a fallback mechanism for images that fail to load.?\\n\\nAdditionally, how can I configure caching headers for the static assets served from the public directory to improve performance, considering that Next.js applies a default Cache-Control: public, max-age=0 header?</td>\n",
       "      <td>v15_3_1_react-hydration-error_possible ways to fix it,v15_3_1_07-amp_amp validation,v15_3_1_04-images-and-fonts_optimizing images,v15_3_1_01-images_image sizing,v15_3_1_image_responsive images</td>\n",
       "    </tr>\n",
       "    <tr>\n",
       "      <th>2</th>\n",
       "      <td>You're building a dashboard-style internal tool using the Next.js App Router, where performance is critical. You want to:\\n\\nLazy load heavy Client Components (e.g., charts or data visualizations) that arenï¿½t immediately needed on first render.\\n\\nEnsure type-safety using TypeScript for components and props.\\n\\nUse dynamic imports with suspense: true and provide a custom loading fallback UI.\\n\\nOnly load third-party libraries like react-chartjs-2 on the client side to reduce bundle size.\\n\\nHow would you set this up properly across your layout, pages, and components? Include code snippets for the following:\\n1. components/Chart.tsx (Client Component with chart)\\n```\\n'use client'\\n\\nimport { Chart as ChartJS, ArcElement, Tooltip, Legend } from 'chart.js';\\nimport { Doughnut } from 'react-chartjs-2';\\n\\nChartJS.register(ArcElement, Tooltip, Legend);\\n\\ntype ChartProps = {\\n  title: string;\\n  data: number[];\\n};\\n\\nexport default function Chart({ title, data }: ChartProps) {\\n  return (\\n    &lt;div className=\"p-4\"&gt;\\n      &lt;h2&gt;{title}&lt;/h2&gt;\\n      &lt;Doughnut\\n        data={{\\n          labels: ['A', 'B', 'C'],\\n          datasets: [{\\n            label: title,\\n            data,\\n            backgroundColor: ['#F00', '#0F0', '#00F'],\\n          }]\\n        }}\\n      /&gt;\\n    &lt;/div&gt;\\n  );\\n}\\n```\\n\\ncomponents/ChartLazy.tsx\\n```\\nimport dynamic from 'next/dynamic';\\n\\nconst Chart = dynamic(() =&gt; import('./Chart'), {\\n  ssr: false,\\n  loading: () =&gt; &lt;p&gt;Loading chart...&lt;/p&gt;,\\n  suspense: true,\\n});\\n\\nexport default Chart;\\n```\\n\\napp/dashboard/page.tsx\\n```\\nimport { Suspense } from 'react';\\nimport Chart from '@/components/ChartLazy';\\n\\nexport default function DashboardPage() {\\n  return (\\n    &lt;main className=\"space-y-8\"&gt;\\n      &lt;h1&gt;Dashboard&lt;/h1&gt;\\n      &lt;Suspense fallback={&lt;div&gt;Loading Charts...&lt;/div&gt;}&gt;\\n        &lt;Chart title=\"User Stats\" data={[10, 20, 30]} /&gt;\\n      &lt;/Suspense&gt;\\n    &lt;/main&gt;\\n  );\\n}\\n```</td>\n",
       "      <td>v15_3_1_react-hydration-error_possible ways to fix it,v15_3_1_07-amp_amp validation,v15_3_1_07-lazy-loading_next/dynamic,v15_3_1_07-lazy-loading_examples</td>\n",
       "    </tr>\n",
       "    <tr>\n",
       "      <th>3</th>\n",
       "      <td>In a Next.js application using the App Router, how can I implement a product detail page that utilizes Incremental Static Regeneration (ISR)?\\n\\nPre-render known product pages at build time using generateStaticParams.?\\n\\nServe cached pages instantly and revalidate them in the background every 60 seconds.?\\n\\nDynamically generate and cache new product pages on-demand when a request is made for a product not pre-rendered at build time.?\\n\\nHandle errors gracefully during data fetching, ensuring that stale content is served if regeneration fails.?\\n\\nAdditionally, how can I set up on-demand revalidation using a server action that invalidates the cache for a specific product page when a product is updated??</td>\n",
       "      <td>v15_3_1_react-hydration-error_possible ways to fix it,v15_3_1_07-amp_amp validation,v15_3_1_04-incremental-static-regeneration_reference,v15_3_1_04-incremental-static-regeneration_examples</td>\n",
       "    </tr>\n",
       "    <tr>\n",
       "      <th>4</th>\n",
       "      <td>How can I implement a multi-step product creation form in a Next.js App Router app using Server Actions, where:\\n\\nEach form step submits to the server using &lt;form action={...}&gt; without client-side state management (no useState).\\n\\nServer Actions are used to:\\n\\nAccumulate partial form data across steps via cookies or temporary storage.\\n\\nPerform progressive enhancement ï¿½ working even when JavaScript is disabled.\\n\\nReturn errors and trigger revalidation.\\n\\nAfter the final step, the full product data is saved and the user is redirected to a summary page.\\n\\nThe form displays client-side loading and error states, reuses shared Server Action logic across pages, and works across multiple layouts.\\n\\nProvide both TypeScript  snippets that demonstrate:\\n\\nUsing native FormData\\n\\nHandling Object.fromEntries(formData.entries()) with filtering of $ACTION_ fields\\n\\nA shared Server Action module (lib/actions.ts)\\n\\nMulti-step forms rendering in both Server and Client Components\\n\\nlib/actions.ts\\n```\\n// TypeScript\\n'use server'\\n\\nexport async function handleStepOne(formData: FormData) {\\n  const data = Object.fromEntries(formData.entries())\\n  const { name, description } = data\\n\\n  // Save to temp DB or session\\n  console.log({ name, description })\\n}\\n\\nexport async function finalizeProduct(formData: FormData) {\\n  const data = Object.fromEntries(formData.entries())\\n\\n  const product = {\\n    name: data.name,\\n    description: data.description,\\n    price: parseFloat(data.price as string),\\n  }\\n\\n  // Save to database\\n  // Revalidate / redirect\\n  console.log('Product saved:', product)\\n}\\n```\\n\\napp/product/create/step-1/page.tsx\\n```\\nimport { handleStepOne } from '@/lib/actions'\\n\\nexport default function StepOneForm() {\\n  return (\\n    &lt;form action={handleStepOne}&gt;\\n      &lt;label&gt;Name: &lt;input name=\"name\" required /&gt;&lt;/label&gt;\\n      &lt;label&gt;Description: &lt;input name=\"description\" /&gt;&lt;/label&gt;\\n      &lt;button type=\"submit\"&gt;Next&lt;/button&gt;\\n    &lt;/form&gt;\\n  )\\n}\\n```\\n\\napp/product/create/step-2/page.tsx\\n```\\n'use client'\\nimport { useFormStatus } from 'react-dom'\\nimport { finalizeProduct } from '@/lib/actions'\\n\\nexport default function StepTwoForm() {\\n  const { pending } = useFormStatus()\\n\\n  return (\\n    &lt;form action={finalizeProduct}&gt;\\n      &lt;label&gt;Price: &lt;input name=\"price\" type=\"number\" required /&gt;&lt;/label&gt;\\n      &lt;button type=\"submit\" disabled={pending}&gt;\\n        {pending ? 'Submitting...' : 'Finish'}\\n      &lt;/button&gt;\\n    &lt;/form&gt;\\n  )\\n}\\n```</td>\n",
       "      <td>v15_3_1_react-hydration-error_possible ways to fix it,v15_3_1_07-amp_amp validation,v15_3_1_03-server-actions-and-mutations_convention,v15_3_1_03-server-actions-and-mutations_behavior,v15_3_1_03-server-actions-and-mutations_examples</td>\n",
       "    </tr>\n",
       "  </tbody>\n",
       "</table>\n",
       "</div>"
      ],
      "text/plain": [
       "                                                                                                                                                                                                                                                                                                                                                                                                                                                                                                                                                                                                                                                                                                                                                                                                                                                                                                                                                                                                                                                                                                                                                                                                                                                                                                                                                                                                                                                                                                                                                                                                                                                                                                                                                                                                                                                                                                                                                                                                                                                                                                                                                                                                                                                                                                                                                                                                                                                                                                                                                                                        Question  \\\n",
       "0                                                                                                                                                                                                                                                                                                                                                                                                                                                                                                                                                                                                                                                                                                                                                                                                                                                                                                                                                                                                                                                                                                                                                                                                                                                                                                                                                                                                                                                                                                                                                                                                                                                                                                                How can I implement a dynamic post editing feature in a Next.js application using the App Router?\\n\\nThe post editing form is a Client Component utilizing useState for local state management.?\\n\\nThe form submits data to a Server Action defined with the \"use server\" directive.?\\n\\nUpon successful submission, the application revalidates the cache for the updated post and redirects the user to the post's detail page.?\\n\\nThe application provides feedback to the user during the submission process, such as loading indicators and error messages.?\\n\\nAdditionally, how can I ensure that sensitive operations, like updating the post in the database, are securely handled on the server side, and that the client does not have direct access to sensitive information??\\n\\nPlease provide code snippets in TypeScript that demonstrate this functionality.   \n",
       "1                                                                                                                                                                                                                                                                                                                                                                                                                                                                                                                                                                                                                                                                                                                                                                                                                                                                                                                                                                                                                                                                                                                                                                                                                                                                                                                                                                                                                                                                                                                                                                                                                                                                                                              How can I implement a responsive image gallery in a Next.js application using the App Router?\\n\\nImages are stored in the public directory and served as static assets.?\\n\\nThe gallery utilizes the next/image component to optimize images for different device sizes and resolutions.?\\n\\nThe application ensures that images are lazy-loaded and do not cause layout shifts during loading.?\\n\\nThe gallery supports both local images from the public directory and remote images from a trusted external source, with appropriate configuration in next.config.js.?\\n\\nThe application provides a fallback mechanism for images that fail to load.?\\n\\nAdditionally, how can I configure caching headers for the static assets served from the public directory to improve performance, considering that Next.js applies a default Cache-Control: public, max-age=0 header?   \n",
       "2                                                                                                                                                                                                                                                                                                                                                                                                                                                                                                                                                                                You're building a dashboard-style internal tool using the Next.js App Router, where performance is critical. You want to:\\n\\nLazy load heavy Client Components (e.g., charts or data visualizations) that arenï¿½t immediately needed on first render.\\n\\nEnsure type-safety using TypeScript for components and props.\\n\\nUse dynamic imports with suspense: true and provide a custom loading fallback UI.\\n\\nOnly load third-party libraries like react-chartjs-2 on the client side to reduce bundle size.\\n\\nHow would you set this up properly across your layout, pages, and components? Include code snippets for the following:\\n1. components/Chart.tsx (Client Component with chart)\\n```\\n'use client'\\n\\nimport { Chart as ChartJS, ArcElement, Tooltip, Legend } from 'chart.js';\\nimport { Doughnut } from 'react-chartjs-2';\\n\\nChartJS.register(ArcElement, Tooltip, Legend);\\n\\ntype ChartProps = {\\n  title: string;\\n  data: number[];\\n};\\n\\nexport default function Chart({ title, data }: ChartProps) {\\n  return (\\n    <div className=\"p-4\">\\n      <h2>{title}</h2>\\n      <Doughnut\\n        data={{\\n          labels: ['A', 'B', 'C'],\\n          datasets: [{\\n            label: title,\\n            data,\\n            backgroundColor: ['#F00', '#0F0', '#00F'],\\n          }]\\n        }}\\n      />\\n    </div>\\n  );\\n}\\n```\\n\\ncomponents/ChartLazy.tsx\\n```\\nimport dynamic from 'next/dynamic';\\n\\nconst Chart = dynamic(() => import('./Chart'), {\\n  ssr: false,\\n  loading: () => <p>Loading chart...</p>,\\n  suspense: true,\\n});\\n\\nexport default Chart;\\n```\\n\\napp/dashboard/page.tsx\\n```\\nimport { Suspense } from 'react';\\nimport Chart from '@/components/ChartLazy';\\n\\nexport default function DashboardPage() {\\n  return (\\n    <main className=\"space-y-8\">\\n      <h1>Dashboard</h1>\\n      <Suspense fallback={<div>Loading Charts...</div>}>\\n        <Chart title=\"User Stats\" data={[10, 20, 30]} />\\n      </Suspense>\\n    </main>\\n  );\\n}\\n```   \n",
       "3                                                                                                                                                                                                                                                                                                                                                                                                                                                                                                                                                                                                                                                                                                                                                                                                                                                                                                                                                                                                                                                                                                                                                                                                                                                                                                                                                                                                                                                                                                                                                                                                                                                                                                                                                                                                                                                      In a Next.js application using the App Router, how can I implement a product detail page that utilizes Incremental Static Regeneration (ISR)?\\n\\nPre-render known product pages at build time using generateStaticParams.?\\n\\nServe cached pages instantly and revalidate them in the background every 60 seconds.?\\n\\nDynamically generate and cache new product pages on-demand when a request is made for a product not pre-rendered at build time.?\\n\\nHandle errors gracefully during data fetching, ensuring that stale content is served if regeneration fails.?\\n\\nAdditionally, how can I set up on-demand revalidation using a server action that invalidates the cache for a specific product page when a product is updated??   \n",
       "4  How can I implement a multi-step product creation form in a Next.js App Router app using Server Actions, where:\\n\\nEach form step submits to the server using <form action={...}> without client-side state management (no useState).\\n\\nServer Actions are used to:\\n\\nAccumulate partial form data across steps via cookies or temporary storage.\\n\\nPerform progressive enhancement ï¿½ working even when JavaScript is disabled.\\n\\nReturn errors and trigger revalidation.\\n\\nAfter the final step, the full product data is saved and the user is redirected to a summary page.\\n\\nThe form displays client-side loading and error states, reuses shared Server Action logic across pages, and works across multiple layouts.\\n\\nProvide both TypeScript  snippets that demonstrate:\\n\\nUsing native FormData\\n\\nHandling Object.fromEntries(formData.entries()) with filtering of $ACTION_ fields\\n\\nA shared Server Action module (lib/actions.ts)\\n\\nMulti-step forms rendering in both Server and Client Components\\n\\nlib/actions.ts\\n```\\n// TypeScript\\n'use server'\\n\\nexport async function handleStepOne(formData: FormData) {\\n  const data = Object.fromEntries(formData.entries())\\n  const { name, description } = data\\n\\n  // Save to temp DB or session\\n  console.log({ name, description })\\n}\\n\\nexport async function finalizeProduct(formData: FormData) {\\n  const data = Object.fromEntries(formData.entries())\\n\\n  const product = {\\n    name: data.name,\\n    description: data.description,\\n    price: parseFloat(data.price as string),\\n  }\\n\\n  // Save to database\\n  // Revalidate / redirect\\n  console.log('Product saved:', product)\\n}\\n```\\n\\napp/product/create/step-1/page.tsx\\n```\\nimport { handleStepOne } from '@/lib/actions'\\n\\nexport default function StepOneForm() {\\n  return (\\n    <form action={handleStepOne}>\\n      <label>Name: <input name=\"name\" required /></label>\\n      <label>Description: <input name=\"description\" /></label>\\n      <button type=\"submit\">Next</button>\\n    </form>\\n  )\\n}\\n```\\n\\napp/product/create/step-2/page.tsx\\n```\\n'use client'\\nimport { useFormStatus } from 'react-dom'\\nimport { finalizeProduct } from '@/lib/actions'\\n\\nexport default function StepTwoForm() {\\n  const { pending } = useFormStatus()\\n\\n  return (\\n    <form action={finalizeProduct}>\\n      <label>Price: <input name=\"price\" type=\"number\" required /></label>\\n      <button type=\"submit\" disabled={pending}>\\n        {pending ? 'Submitting...' : 'Finish'}\\n      </button>\\n    </form>\\n  )\\n}\\n```   \n",
       "\n",
       "                                                                                                                                                                                                                                   Expected  \n",
       "0                                           v15_3_1_react-hydration-error_possible ways to fix it,v15_3_1_07-amp_amp validation,v15_3_1_10-dynamic-routes_convention,v15_3_1_10-dynamic-routes_example,v15_3_1_10-dynamic-routes_typescript  \n",
       "1                                          v15_3_1_react-hydration-error_possible ways to fix it,v15_3_1_07-amp_amp validation,v15_3_1_04-images-and-fonts_optimizing images,v15_3_1_01-images_image sizing,v15_3_1_image_responsive images  \n",
       "2                                                                                 v15_3_1_react-hydration-error_possible ways to fix it,v15_3_1_07-amp_amp validation,v15_3_1_07-lazy-loading_next/dynamic,v15_3_1_07-lazy-loading_examples  \n",
       "3                                              v15_3_1_react-hydration-error_possible ways to fix it,v15_3_1_07-amp_amp validation,v15_3_1_04-incremental-static-regeneration_reference,v15_3_1_04-incremental-static-regeneration_examples  \n",
       "4  v15_3_1_react-hydration-error_possible ways to fix it,v15_3_1_07-amp_amp validation,v15_3_1_03-server-actions-and-mutations_convention,v15_3_1_03-server-actions-and-mutations_behavior,v15_3_1_03-server-actions-and-mutations_examples  "
      ]
     },
     "execution_count": 3,
     "metadata": {},
     "output_type": "execute_result"
    }
   ],
   "source": [
    "complex_queries.head()"
   ]
  },
  {
   "cell_type": "code",
   "execution_count": 4,
   "metadata": {},
   "outputs": [
    {
     "data": {
      "text/html": [
       "<div>\n",
       "<style scoped>\n",
       "    .dataframe tbody tr th:only-of-type {\n",
       "        vertical-align: middle;\n",
       "    }\n",
       "\n",
       "    .dataframe tbody tr th {\n",
       "        vertical-align: top;\n",
       "    }\n",
       "\n",
       "    .dataframe thead th {\n",
       "        text-align: right;\n",
       "    }\n",
       "</style>\n",
       "<table border=\"1\" class=\"dataframe\">\n",
       "  <thead>\n",
       "    <tr style=\"text-align: right;\">\n",
       "      <th></th>\n",
       "      <th>entry_id</th>\n",
       "      <th>title</th>\n",
       "    </tr>\n",
       "  </thead>\n",
       "  <tbody>\n",
       "    <tr>\n",
       "      <th>0</th>\n",
       "      <td>v15_3_1_index_what is next_js?</td>\n",
       "      <td>index - Welcome to the Next.js Documentation. - What is Next.js?</td>\n",
       "    </tr>\n",
       "    <tr>\n",
       "      <th>1</th>\n",
       "      <td>v15_3_1_index_main features</td>\n",
       "      <td>index - Welcome to the Next.js Documentation. - Main Features</td>\n",
       "    </tr>\n",
       "    <tr>\n",
       "      <th>2</th>\n",
       "      <td>v15_3_1_index_how to use these docs</td>\n",
       "      <td>index - Welcome to the Next.js Documentation. - How to Use These Docs</td>\n",
       "    </tr>\n",
       "    <tr>\n",
       "      <th>3</th>\n",
       "      <td>v15_3_1_index_app router vs pages router</td>\n",
       "      <td>index - Welcome to the Next.js Documentation. - App Router vs Pages Router</td>\n",
       "    </tr>\n",
       "    <tr>\n",
       "      <th>4</th>\n",
       "      <td>v15_3_1_index_pre-requisite knowledge</td>\n",
       "      <td>index - Welcome to the Next.js Documentation. - Pre-Requisite Knowledge</td>\n",
       "    </tr>\n",
       "  </tbody>\n",
       "</table>\n",
       "</div>"
      ],
      "text/plain": [
       "                                   entry_id  \\\n",
       "0            v15_3_1_index_what is next_js?   \n",
       "1               v15_3_1_index_main features   \n",
       "2       v15_3_1_index_how to use these docs   \n",
       "3  v15_3_1_index_app router vs pages router   \n",
       "4     v15_3_1_index_pre-requisite knowledge   \n",
       "\n",
       "                                                                        title  \n",
       "0            index - Welcome to the Next.js Documentation. - What is Next.js?  \n",
       "1               index - Welcome to the Next.js Documentation. - Main Features  \n",
       "2       index - Welcome to the Next.js Documentation. - How to Use These Docs  \n",
       "3  index - Welcome to the Next.js Documentation. - App Router vs Pages Router  \n",
       "4     index - Welcome to the Next.js Documentation. - Pre-Requisite Knowledge  "
      ]
     },
     "execution_count": 4,
     "metadata": {},
     "output_type": "execute_result"
    }
   ],
   "source": [
    "data_file.head()"
   ]
  },
  {
   "cell_type": "code",
   "execution_count": 5,
   "metadata": {},
   "outputs": [],
   "source": [
    "import requests\n",
    "import json\n",
    "\n",
    "test_api = \"http://localhost:8000/prompt/generate\"\n"
   ]
  },
  {
   "cell_type": "code",
   "execution_count": 6,
   "metadata": {},
   "outputs": [],
   "source": [
    "def precision_at_k(k: int, relevant_docs: list = [], retrieved_docs: list = []):\n",
    "    return len(set(relevant_docs) & set(retrieved_docs)) / k\n",
    "\n",
    "def recall_at_k(k: int, relevant_docs: list = [], retrieved_docs: list = []):\n",
    "    return len(set(relevant_docs) & set(retrieved_docs)) / len(set(relevant_docs))\n",
    "\n",
    "def get_titles(entry_ids: list = []):\n",
    "    docs = data_file[data_file[\"entry_id\"].isin(entry_ids)].to_dict(\"records\")\n",
    "    # print(docs)\n",
    "    return docs\n"
   ]
  },
  {
   "cell_type": "code",
   "execution_count": null,
   "metadata": {},
   "outputs": [
    {
     "name": "stdout",
     "output_type": "stream",
     "text": [
      "@1\n",
      "Precision: 0.0, Recall: 0.0\n"
     ]
    },
    {
     "name": "stderr",
     "output_type": "stream",
     "text": [
      "C:\\Users\\PC\\AppData\\Local\\Temp\\ipykernel_3732\\2594947956.py:35: FutureWarning: The behavior of DataFrame concatenation with empty or all-NA entries is deprecated. In a future version, this will no longer exclude empty or all-NA columns when determining the result dtypes. To retain the old behavior, exclude the relevant entries before the concat operation.\n",
      "  simple_queries_results = pd.concat([pd.DataFrame([[precision, recall, latency_ret, latency_gen]], columns=simple_queries_results.columns), simple_queries_results], ignore_index=True)\n"
     ]
    },
    {
     "name": "stdout",
     "output_type": "stream",
     "text": [
      "Precision: 0.0, Recall: 0.0\n",
      "Precision: 0.0, Recall: 0.0\n",
      "Precision: 0.0, Recall: 0.0\n",
      "Precision: 1.0, Recall: 0.2\n",
      "Precision: 1.0, Recall: 0.2\n",
      "Precision: 1.0, Recall: 0.2\n",
      "Precision: 1.0, Recall: 0.2\n",
      "Precision: 0.0, Recall: 0.0\n",
      "Precision: 0.0, Recall: 0.0\n",
      "Precision: 0.0, Recall: 0.0\n",
      "Precision: 0.0, Recall: 0.0\n",
      "Precision: 0.0, Recall: 0.0\n",
      "Precision: 0.0, Recall: 0.0\n",
      "Precision: 0.0, Recall: 0.0\n",
      "@3\n"
     ]
    },
    {
     "name": "stderr",
     "output_type": "stream",
     "text": [
      "C:\\Users\\PC\\AppData\\Local\\Temp\\ipykernel_3732\\2594947956.py:41: FutureWarning: The behavior of DataFrame concatenation with empty or all-NA entries is deprecated. In a future version, this will no longer exclude empty or all-NA columns when determining the result dtypes. To retain the old behavior, exclude the relevant entries before the concat operation.\n",
      "  simple_queries_overall = pd.concat([pd.DataFrame([[at_k ,precision_atk, recall_atk, lat_ret, lat_gen]], columns=simple_queries_overall.columns), simple_queries_overall], ignore_index=True)\n"
     ]
    },
    {
     "name": "stdout",
     "output_type": "stream",
     "text": [
      "Precision: 0.3333333333333333, Recall: 0.2\n"
     ]
    },
    {
     "name": "stderr",
     "output_type": "stream",
     "text": [
      "C:\\Users\\PC\\AppData\\Local\\Temp\\ipykernel_3732\\2594947956.py:35: FutureWarning: The behavior of DataFrame concatenation with empty or all-NA entries is deprecated. In a future version, this will no longer exclude empty or all-NA columns when determining the result dtypes. To retain the old behavior, exclude the relevant entries before the concat operation.\n",
      "  simple_queries_results = pd.concat([pd.DataFrame([[precision, recall, latency_ret, latency_gen]], columns=simple_queries_results.columns), simple_queries_results], ignore_index=True)\n"
     ]
    },
    {
     "name": "stdout",
     "output_type": "stream",
     "text": [
      "Precision: 0.3333333333333333, Recall: 0.2\n",
      "Precision: 0.3333333333333333, Recall: 0.3333333333333333\n",
      "Precision: 0.3333333333333333, Recall: 0.25\n",
      "Precision: 1.0, Recall: 0.6\n",
      "Precision: 1.0, Recall: 0.6\n",
      "Precision: 1.0, Recall: 0.6\n",
      "Precision: 1.0, Recall: 0.6\n",
      "Precision: 0.0, Recall: 0.0\n",
      "Precision: 0.0, Recall: 0.0\n",
      "Precision: 0.3333333333333333, Recall: 0.3333333333333333\n",
      "Precision: 0.3333333333333333, Recall: 0.25\n",
      "Precision: 0.3333333333333333, Recall: 0.5\n",
      "Precision: 0.3333333333333333, Recall: 1.0\n",
      "Precision: 0.0, Recall: 0.0\n",
      "@5\n",
      "Precision: 0.8, Recall: 0.8\n"
     ]
    },
    {
     "name": "stderr",
     "output_type": "stream",
     "text": [
      "C:\\Users\\PC\\AppData\\Local\\Temp\\ipykernel_3732\\2594947956.py:35: FutureWarning: The behavior of DataFrame concatenation with empty or all-NA entries is deprecated. In a future version, this will no longer exclude empty or all-NA columns when determining the result dtypes. To retain the old behavior, exclude the relevant entries before the concat operation.\n",
      "  simple_queries_results = pd.concat([pd.DataFrame([[precision, recall, latency_ret, latency_gen]], columns=simple_queries_results.columns), simple_queries_results], ignore_index=True)\n"
     ]
    },
    {
     "name": "stdout",
     "output_type": "stream",
     "text": [
      "Precision: 0.6, Recall: 0.6\n",
      "Precision: 0.6, Recall: 1.0\n",
      "Precision: 0.6, Recall: 0.75\n",
      "Precision: 1.0, Recall: 1.0\n",
      "Precision: 1.0, Recall: 1.0\n",
      "Precision: 1.0, Recall: 1.0\n",
      "Precision: 1.0, Recall: 1.0\n",
      "Precision: 0.2, Recall: 0.5\n",
      "Precision: 0.2, Recall: 0.5\n",
      "Precision: 0.6, Recall: 1.0\n",
      "Precision: 0.4, Recall: 0.5\n",
      "Precision: 0.2, Recall: 0.5\n",
      "Precision: 0.2, Recall: 1.0\n",
      "Precision: 0.2, Recall: 1.0\n",
      "@7\n",
      "Precision: 0.42857142857142855, Recall: 0.6\n"
     ]
    },
    {
     "name": "stderr",
     "output_type": "stream",
     "text": [
      "C:\\Users\\PC\\AppData\\Local\\Temp\\ipykernel_3732\\2594947956.py:35: FutureWarning: The behavior of DataFrame concatenation with empty or all-NA entries is deprecated. In a future version, this will no longer exclude empty or all-NA columns when determining the result dtypes. To retain the old behavior, exclude the relevant entries before the concat operation.\n",
      "  simple_queries_results = pd.concat([pd.DataFrame([[precision, recall, latency_ret, latency_gen]], columns=simple_queries_results.columns), simple_queries_results], ignore_index=True)\n"
     ]
    },
    {
     "name": "stdout",
     "output_type": "stream",
     "text": [
      "Precision: 0.42857142857142855, Recall: 0.6\n",
      "Precision: 0.2857142857142857, Recall: 0.6666666666666666\n",
      "Precision: 0.2857142857142857, Recall: 0.5\n",
      "Precision: 0.5714285714285714, Recall: 0.8\n",
      "Precision: 0.7142857142857143, Recall: 1.0\n",
      "Precision: 0.7142857142857143, Recall: 1.0\n",
      "Precision: 0.7142857142857143, Recall: 1.0\n",
      "Precision: 0.14285714285714285, Recall: 0.5\n",
      "Precision: 0.14285714285714285, Recall: 0.5\n",
      "Precision: 0.42857142857142855, Recall: 1.0\n",
      "Precision: 0.2857142857142857, Recall: 0.5\n",
      "Precision: 0.14285714285714285, Recall: 0.5\n",
      "Precision: 0.14285714285714285, Recall: 1.0\n",
      "Precision: 0.14285714285714285, Recall: 1.0\n"
     ]
    }
   ],
   "source": [
    "# test simple queries\n",
    "simple_queries_overall = pd.DataFrame(columns=[\"K\", \"Precision@K\", \"Recall@K\", \"Latency-Retriever\", \"Latency-Generator\"])\n",
    "\n",
    "for at_k in [1,3,5,7]:\n",
    "    body = {\n",
    "        \"version_name\": \"v15.3.1\",\n",
    "        \"query\": \"\",\n",
    "        \"model\": \"llama3.2:3b\",\n",
    "        \"additional_options\": {\n",
    "            \"retriever_options\": {\n",
    "            \"top_k\": at_k},\n",
    "            \"generator_options\": {}\n",
    "        }\n",
    "    }\n",
    "    print(f\"@{at_k}\")\n",
    "    simple_queries_results = pd.DataFrame(columns=[\"Precision\", \"Recall\", \"Latency-Retriever\", \"Latency-Generator\"])\n",
    "    save_file_name = f\"simple_queries_results_at{at_k}.csv\"\n",
    "    for index, row in simple_queries.iterrows():\n",
    "        question = row[\"Question\"]\n",
    "        ids = row[\"Expected\"].split(\",\")\n",
    "        expected_titles = [data['title'] for data in get_titles(ids)]\n",
    "        body[\"query\"] = question\n",
    "        response = requests.post(test_api, json=body)\n",
    "        # get_titles(ids)\n",
    "        result = json.loads(response.text)\n",
    "        retrieved_docs = result['retrieved_data']['docs']\n",
    "        # print(\"=======\")\n",
    "        # print(\"Expected:\",expected_titles)\n",
    "        # print(\"Got\",retrieved_docs)\n",
    "        precision = precision_at_k(at_k, expected_titles, retrieved_docs)\n",
    "        recall = recall_at_k(at_k, expected_titles, retrieved_docs)\n",
    "        print(f\"Precision: {precision}, Recall: {recall}\")\n",
    "        latency_ret = result['latency']['retrieve_time']\n",
    "        latency_gen = result['latency']['generate_time']\n",
    "        simple_queries_results = pd.concat([pd.DataFrame([[precision, recall, latency_ret, latency_gen]], columns=simple_queries_results.columns), simple_queries_results], ignore_index=True)\n",
    "    simple_queries_results.to_csv(os.path.join('results', save_file_name), sep=',', encoding='utf-8')\n",
    "    precision_atk = simple_queries_results['Precision'].mean()\n",
    "    recall_atk = simple_queries_results['Recall'].mean()\n",
    "    lat_ret = simple_queries_results['Latency-Retriever'].mean()\n",
    "    lat_gen = simple_queries_results['Latency-Generator'].mean()\n",
    "    simple_queries_overall = pd.concat([pd.DataFrame([[at_k ,precision_atk, recall_atk, lat_ret, lat_gen]], columns=simple_queries_overall.columns), simple_queries_overall], ignore_index=True)\n",
    "# result = json.loads(response.text)\n",
    "# print(result)\n",
    "simple_queries_overall.to_csv(\"simple_queries_overall.csv\", sep=',', encoding='utf-8')"
   ]
  },
  {
   "cell_type": "code",
   "execution_count": 10,
   "metadata": {},
   "outputs": [
    {
     "name": "stdout",
     "output_type": "stream",
     "text": [
      "@1\n",
      "Precision: 0.0, Recall: 0.0\n"
     ]
    },
    {
     "name": "stderr",
     "output_type": "stream",
     "text": [
      "C:\\Users\\PC\\AppData\\Local\\Temp\\ipykernel_3732\\3661239888.py:35: FutureWarning: The behavior of DataFrame concatenation with empty or all-NA entries is deprecated. In a future version, this will no longer exclude empty or all-NA columns when determining the result dtypes. To retain the old behavior, exclude the relevant entries before the concat operation.\n",
      "  complex_queries_results = pd.concat([pd.DataFrame([[precision, recall, latency_ret, latency_gen]], columns=complex_queries_results.columns), complex_queries_results], ignore_index=True)\n"
     ]
    },
    {
     "name": "stdout",
     "output_type": "stream",
     "text": [
      "Precision: 0.0, Recall: 0.0\n",
      "Precision: 1.0, Recall: 0.25\n",
      "Precision: 0.0, Recall: 0.0\n",
      "Precision: 0.0, Recall: 0.0\n",
      "Precision: 0.0, Recall: 0.0\n",
      "Precision: 0.0, Recall: 0.0\n",
      "Precision: 0.0, Recall: 0.0\n",
      "Precision: 0.0, Recall: 0.0\n",
      "Precision: 0.0, Recall: 0.0\n",
      "Precision: 0.0, Recall: 0.0\n",
      "Precision: 0.0, Recall: 0.0\n",
      "Precision: 0.0, Recall: 0.0\n",
      "Precision: 0.0, Recall: 0.0\n",
      "Precision: 0.0, Recall: 0.0\n",
      "@3\n"
     ]
    },
    {
     "name": "stderr",
     "output_type": "stream",
     "text": [
      "C:\\Users\\PC\\AppData\\Local\\Temp\\ipykernel_3732\\3661239888.py:41: FutureWarning: The behavior of DataFrame concatenation with empty or all-NA entries is deprecated. In a future version, this will no longer exclude empty or all-NA columns when determining the result dtypes. To retain the old behavior, exclude the relevant entries before the concat operation.\n",
      "  complex_queries_overall = pd.concat([pd.DataFrame([[at_k ,precision_atk, recall_atk, lat_ret, lat_gen]], columns=complex_queries_overall.columns), complex_queries_overall], ignore_index=True)\n"
     ]
    },
    {
     "name": "stdout",
     "output_type": "stream",
     "text": [
      "Precision: 0.3333333333333333, Recall: 0.2\n"
     ]
    },
    {
     "name": "stderr",
     "output_type": "stream",
     "text": [
      "C:\\Users\\PC\\AppData\\Local\\Temp\\ipykernel_3732\\3661239888.py:35: FutureWarning: The behavior of DataFrame concatenation with empty or all-NA entries is deprecated. In a future version, this will no longer exclude empty or all-NA columns when determining the result dtypes. To retain the old behavior, exclude the relevant entries before the concat operation.\n",
      "  complex_queries_results = pd.concat([pd.DataFrame([[precision, recall, latency_ret, latency_gen]], columns=complex_queries_results.columns), complex_queries_results], ignore_index=True)\n"
     ]
    },
    {
     "name": "stdout",
     "output_type": "stream",
     "text": [
      "Precision: 0.3333333333333333, Recall: 0.2\n",
      "Precision: 0.0, Recall: 0.0\n",
      "Precision: 0.3333333333333333, Recall: 0.25\n",
      "Precision: 0.3333333333333333, Recall: 0.2\n",
      "Precision: 0.0, Recall: 0.0\n",
      "Precision: 0.3333333333333333, Recall: 0.08333333333333333\n",
      "Precision: 0.3333333333333333, Recall: 0.125\n",
      "Precision: 0.3333333333333333, Recall: 0.14285714285714285\n",
      "Precision: 0.3333333333333333, Recall: 0.125\n",
      "Precision: 0.0, Recall: 0.0\n",
      "Precision: 0.0, Recall: 0.0\n",
      "Precision: 0.3333333333333333, Recall: 0.2\n",
      "Precision: 0.3333333333333333, Recall: 0.125\n",
      "Precision: 0.3333333333333333, Recall: 0.2\n",
      "@5\n",
      "Precision: 0.4, Recall: 0.4\n"
     ]
    },
    {
     "name": "stderr",
     "output_type": "stream",
     "text": [
      "C:\\Users\\PC\\AppData\\Local\\Temp\\ipykernel_3732\\3661239888.py:35: FutureWarning: The behavior of DataFrame concatenation with empty or all-NA entries is deprecated. In a future version, this will no longer exclude empty or all-NA columns when determining the result dtypes. To retain the old behavior, exclude the relevant entries before the concat operation.\n",
      "  complex_queries_results = pd.concat([pd.DataFrame([[precision, recall, latency_ret, latency_gen]], columns=complex_queries_results.columns), complex_queries_results], ignore_index=True)\n"
     ]
    },
    {
     "name": "stdout",
     "output_type": "stream",
     "text": [
      "Precision: 0.4, Recall: 0.4\n",
      "Precision: 0.0, Recall: 0.0\n",
      "Precision: 0.4, Recall: 0.5\n",
      "Precision: 0.0, Recall: 0.0\n",
      "Precision: 0.0, Recall: 0.0\n",
      "Precision: 0.4, Recall: 0.16666666666666666\n",
      "Precision: 0.4, Recall: 0.25\n",
      "Precision: 0.4, Recall: 0.2857142857142857\n",
      "Precision: 0.4, Recall: 0.25\n",
      "Precision: 0.2, Recall: 0.2\n",
      "Precision: 0.2, Recall: 0.14285714285714285\n",
      "Precision: 0.4, Recall: 0.4\n",
      "Precision: 0.4, Recall: 0.25\n",
      "Precision: 0.4, Recall: 0.4\n",
      "@7\n",
      "Precision: 0.2857142857142857, Recall: 0.4\n"
     ]
    },
    {
     "name": "stderr",
     "output_type": "stream",
     "text": [
      "C:\\Users\\PC\\AppData\\Local\\Temp\\ipykernel_3732\\3661239888.py:35: FutureWarning: The behavior of DataFrame concatenation with empty or all-NA entries is deprecated. In a future version, this will no longer exclude empty or all-NA columns when determining the result dtypes. To retain the old behavior, exclude the relevant entries before the concat operation.\n",
      "  complex_queries_results = pd.concat([pd.DataFrame([[precision, recall, latency_ret, latency_gen]], columns=complex_queries_results.columns), complex_queries_results], ignore_index=True)\n"
     ]
    },
    {
     "name": "stdout",
     "output_type": "stream",
     "text": [
      "Precision: 0.2857142857142857, Recall: 0.4\n",
      "Precision: 0.0, Recall: 0.0\n",
      "Precision: 0.2857142857142857, Recall: 0.5\n",
      "Precision: 0.0, Recall: 0.0\n",
      "Precision: 0.0, Recall: 0.0\n",
      "Precision: 0.2857142857142857, Recall: 0.16666666666666666\n",
      "Precision: 0.2857142857142857, Recall: 0.25\n",
      "Precision: 0.2857142857142857, Recall: 0.2857142857142857\n",
      "Precision: 0.2857142857142857, Recall: 0.25\n",
      "Precision: 0.14285714285714285, Recall: 0.2\n",
      "Precision: 0.14285714285714285, Recall: 0.14285714285714285\n",
      "Precision: 0.2857142857142857, Recall: 0.4\n",
      "Precision: 0.2857142857142857, Recall: 0.25\n",
      "Precision: 0.2857142857142857, Recall: 0.4\n"
     ]
    }
   ],
   "source": [
    "# test complex queries\n",
    "complex_queries_overall = pd.DataFrame(columns=[\"K\", \"Precision@K\", \"Recall@K\", \"Latency-Retriever\", \"Latency-Generator\"])\n",
    "\n",
    "for at_k in [1,3,5,7]:\n",
    "    body = {\n",
    "        \"version_name\": \"v15.3.1\",\n",
    "        \"query\": \"\",\n",
    "        \"model\": \"llama3.2:3b\",\n",
    "        \"additional_options\": {\n",
    "            \"retriever_options\": {\n",
    "            \"top_k\": at_k},\n",
    "            \"generator_options\": {}\n",
    "        }\n",
    "    }\n",
    "    print(f\"@{at_k}\")\n",
    "    complex_queries_results = pd.DataFrame(columns=[\"Precision\", \"Recall\", \"Latency-Retriever\", \"Latency-Generator\"])\n",
    "    save_file_name = f\"complex_queries_results_at{at_k}.csv\"\n",
    "    for index, row in complex_queries.iterrows():\n",
    "        question = row[\"Question\"]\n",
    "        ids = row[\"Expected\"].split(\",\")\n",
    "        expected_titles = [data['title'] for data in get_titles(ids)]\n",
    "        body[\"query\"] = question\n",
    "        response = requests.post(test_api, json=body)\n",
    "        # get_titles(ids)\n",
    "        result = json.loads(response.text)\n",
    "        retrieved_docs = result['retrieved_data']['docs']\n",
    "        # print(\"=======\")\n",
    "        # print(\"Expected:\",expected_titles)\n",
    "        # print(\"Got\",retrieved_docs)\n",
    "        precision = precision_at_k(at_k, expected_titles, retrieved_docs)\n",
    "        recall = recall_at_k(at_k, expected_titles, retrieved_docs)\n",
    "        print(f\"Precision: {precision}, Recall: {recall}\")\n",
    "        latency_ret = result['latency']['retrieve_time']\n",
    "        latency_gen = result['latency']['generate_time']\n",
    "        complex_queries_results = pd.concat([pd.DataFrame([[precision, recall, latency_ret, latency_gen]], columns=complex_queries_results.columns), complex_queries_results], ignore_index=True)\n",
    "    complex_queries_results.to_csv(os.path.join('results', save_file_name), sep=',', encoding='utf-8')\n",
    "    precision_atk = complex_queries_results['Precision'].mean()\n",
    "    recall_atk = complex_queries_results['Recall'].mean()\n",
    "    lat_ret = complex_queries_results['Latency-Retriever'].mean()\n",
    "    lat_gen = complex_queries_results['Latency-Generator'].mean()\n",
    "    complex_queries_overall = pd.concat([pd.DataFrame([[at_k ,precision_atk, recall_atk, lat_ret, lat_gen]], columns=complex_queries_overall.columns), complex_queries_overall], ignore_index=True)\n",
    "# result = json.loads(response.text)\n",
    "# print(result)\n",
    "complex_queries_overall.to_csv(\"complex_queries_overall.csv\", sep=',', encoding='utf-8')"
   ]
  },
  {
   "cell_type": "code",
   "execution_count": 11,
   "metadata": {},
   "outputs": [],
   "source": [
    "# precision_mean = complex_queries_results['Precision'].mean()\n",
    "# recall_mean = complex_queries_results['Recall'].mean()\n",
    "# latency_ret_mean = complex_queries_results['Latency-Retriever'].mean()\n",
    "# latency_gen_mean = complex_queries_results['Latency-Generator'].mean()\n",
    "\n",
    "# print(f\"Precision: {precision_mean}, Recall: {recall_mean}, Latency-Retriever: {latency_ret_mean}, Latency-Generator: {latency_gen_mean}\")"
   ]
  },
  {
   "cell_type": "code",
   "execution_count": null,
   "metadata": {},
   "outputs": [],
   "source": []
  }
 ],
 "metadata": {
  "kernelspec": {
   "display_name": "local_ai",
   "language": "python",
   "name": "python3"
  },
  "language_info": {
   "codemirror_mode": {
    "name": "ipython",
    "version": 3
   },
   "file_extension": ".py",
   "mimetype": "text/x-python",
   "name": "python",
   "nbconvert_exporter": "python",
   "pygments_lexer": "ipython3",
   "version": "3.10.17"
  }
 },
 "nbformat": 4,
 "nbformat_minor": 2
}
