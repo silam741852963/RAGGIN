{
 "cells": [
  {
   "cell_type": "code",
   "execution_count": 1,
   "metadata": {},
   "outputs": [],
   "source": [
    "# get testcase\n",
    "import os\n",
    "import pandas as pd\n",
    "pd.set_option('display.max_colwidth', None)\n",
    "\n",
    "simple_queries = pd.read_csv(\"simpleQueries.csv\", sep=\";\", encoding=\"utf-8\")\n",
    "complex_queries = pd.read_csv(\"complexQueries.csv\", sep=\",\", encoding=\"cp1252\")\n",
    "\n",
    "data_file = pd.read_csv(\"v15.3.1.csv\", sep=\",\", encoding=\"utf-8\")\n",
    "data_file = data_file[['entry_id', 'title']]"
   ]
  },
  {
   "cell_type": "code",
   "execution_count": 14,
   "metadata": {},
   "outputs": [],
   "source": [
    "# simple_queries.head()"
   ]
  },
  {
   "cell_type": "code",
   "execution_count": null,
   "metadata": {},
   "outputs": [
    {
     "data": {
      "text/html": [
       "<div>\n",
       "<style scoped>\n",
       "    .dataframe tbody tr th:only-of-type {\n",
       "        vertical-align: middle;\n",
       "    }\n",
       "\n",
       "    .dataframe tbody tr th {\n",
       "        vertical-align: top;\n",
       "    }\n",
       "\n",
       "    .dataframe thead th {\n",
       "        text-align: right;\n",
       "    }\n",
       "</style>\n",
       "<table border=\"1\" class=\"dataframe\">\n",
       "  <thead>\n",
       "    <tr style=\"text-align: right;\">\n",
       "      <th></th>\n",
       "      <th>Question</th>\n",
       "      <th>Expected</th>\n",
       "    </tr>\n",
       "  </thead>\n",
       "  <tbody>\n",
       "    <tr>\n",
       "      <th>0</th>\n",
       "      <td>How can I implement a dynamic post editing feature in a Next.js application using the App Router?\\n\\nThe post editing form is a Client Component utilizing useState for local state management.?\\n\\nThe form submits data to a Server Action defined with the \"use server\" directive.?\\n\\nUpon successful submission, the application revalidates the cache for the updated post and redirects the user to the post's detail page.?\\n\\nThe application provides feedback to the user during the submission process, such as loading indicators and error messages.?\\n\\nAdditionally, how can I ensure that sensitive operations, like updating the post in the database, are securely handled on the server side, and that the client does not have direct access to sensitive information??\\n\\nPlease provide code snippets in TypeScript that demonstrate this functionality.</td>\n",
       "      <td>v15_3_1_react-hydration-error_possible ways to fix it,v15_3_1_07-amp_amp validation,v15_3_1_10-dynamic-routes_convention,v15_3_1_10-dynamic-routes_example,v15_3_1_10-dynamic-routes_typescript</td>\n",
       "    </tr>\n",
       "    <tr>\n",
       "      <th>1</th>\n",
       "      <td>How can I implement a responsive image gallery in a Next.js application using the App Router?\\n\\nImages are stored in the public directory and served as static assets.?\\n\\nThe gallery utilizes the next/image component to optimize images for different device sizes and resolutions.?\\n\\nThe application ensures that images are lazy-loaded and do not cause layout shifts during loading.?\\n\\nThe gallery supports both local images from the public directory and remote images from a trusted external source, with appropriate configuration in next.config.js.?\\n\\nThe application provides a fallback mechanism for images that fail to load.?\\n\\nAdditionally, how can I configure caching headers for the static assets served from the public directory to improve performance, considering that Next.js applies a default Cache-Control: public, max-age=0 header?</td>\n",
       "      <td>v15_3_1_react-hydration-error_possible ways to fix it,v15_3_1_07-amp_amp validation,v15_3_1_04-images-and-fonts_optimizing images,v15_3_1_01-images_image sizing,v15_3_1_image_responsive images</td>\n",
       "    </tr>\n",
       "    <tr>\n",
       "      <th>2</th>\n",
       "      <td>You're building a dashboard-style internal tool using the Next.js App Router, where performance is critical. You want to:\\n\\nLazy load heavy Client Components (e.g., charts or data visualizations) that arenï¿½t immediately needed on first render.\\n\\nEnsure type-safety using TypeScript for components and props.\\n\\nUse dynamic imports with suspense: true and provide a custom loading fallback UI.\\n\\nOnly load third-party libraries like react-chartjs-2 on the client side to reduce bundle size.\\n\\nHow would you set this up properly across your layout, pages, and components? Include code snippets for the following:\\n1. components/Chart.tsx (Client Component with chart)\\n```\\n'use client'\\n\\nimport { Chart as ChartJS, ArcElement, Tooltip, Legend } from 'chart.js';\\nimport { Doughnut } from 'react-chartjs-2';\\n\\nChartJS.register(ArcElement, Tooltip, Legend);\\n\\ntype ChartProps = {\\n  title: string;\\n  data: number[];\\n};\\n\\nexport default function Chart({ title, data }: ChartProps) {\\n  return (\\n    &lt;div className=\"p-4\"&gt;\\n      &lt;h2&gt;{title}&lt;/h2&gt;\\n      &lt;Doughnut\\n        data={{\\n          labels: ['A', 'B', 'C'],\\n          datasets: [{\\n            label: title,\\n            data,\\n            backgroundColor: ['#F00', '#0F0', '#00F'],\\n          }]\\n        }}\\n      /&gt;\\n    &lt;/div&gt;\\n  );\\n}\\n```\\n\\ncomponents/ChartLazy.tsx\\n```\\nimport dynamic from 'next/dynamic';\\n\\nconst Chart = dynamic(() =&gt; import('./Chart'), {\\n  ssr: false,\\n  loading: () =&gt; &lt;p&gt;Loading chart...&lt;/p&gt;,\\n  suspense: true,\\n});\\n\\nexport default Chart;\\n```\\n\\napp/dashboard/page.tsx\\n```\\nimport { Suspense } from 'react';\\nimport Chart from '@/components/ChartLazy';\\n\\nexport default function DashboardPage() {\\n  return (\\n    &lt;main className=\"space-y-8\"&gt;\\n      &lt;h1&gt;Dashboard&lt;/h1&gt;\\n      &lt;Suspense fallback={&lt;div&gt;Loading Charts...&lt;/div&gt;}&gt;\\n        &lt;Chart title=\"User Stats\" data={[10, 20, 30]} /&gt;\\n      &lt;/Suspense&gt;\\n    &lt;/main&gt;\\n  );\\n}\\n```</td>\n",
       "      <td>v15_3_1_react-hydration-error_possible ways to fix it,v15_3_1_07-amp_amp validation,v15_3_1_07-lazy-loading_next/dynamic,v15_3_1_07-lazy-loading_examples</td>\n",
       "    </tr>\n",
       "  </tbody>\n",
       "</table>\n",
       "</div>"
      ],
      "text/plain": [
       "                                                                                                                                                                                                                                                                                                                                                                                                                                                                                                                                                                                                                                                                                                                                                                                                                                                                                                                                                                                                                                                                                                                                                                                                                                                                                                                                                                                                                                                                                                                                                                                                                                                                                                                                                                                                                                                                                                                                                                                                          Question  \\\n",
       "0                                                                                                                                                                                                                                                                                                                                                                                                                                                                                                                                                                                                                                                                                                                                                                                                                                                                                                                                                                                                                                                                                                                                  How can I implement a dynamic post editing feature in a Next.js application using the App Router?\\n\\nThe post editing form is a Client Component utilizing useState for local state management.?\\n\\nThe form submits data to a Server Action defined with the \"use server\" directive.?\\n\\nUpon successful submission, the application revalidates the cache for the updated post and redirects the user to the post's detail page.?\\n\\nThe application provides feedback to the user during the submission process, such as loading indicators and error messages.?\\n\\nAdditionally, how can I ensure that sensitive operations, like updating the post in the database, are securely handled on the server side, and that the client does not have direct access to sensitive information??\\n\\nPlease provide code snippets in TypeScript that demonstrate this functionality.   \n",
       "1                                                                                                                                                                                                                                                                                                                                                                                                                                                                                                                                                                                                                                                                                                                                                                                                                                                                                                                                                                                                                                                                                                                                How can I implement a responsive image gallery in a Next.js application using the App Router?\\n\\nImages are stored in the public directory and served as static assets.?\\n\\nThe gallery utilizes the next/image component to optimize images for different device sizes and resolutions.?\\n\\nThe application ensures that images are lazy-loaded and do not cause layout shifts during loading.?\\n\\nThe gallery supports both local images from the public directory and remote images from a trusted external source, with appropriate configuration in next.config.js.?\\n\\nThe application provides a fallback mechanism for images that fail to load.?\\n\\nAdditionally, how can I configure caching headers for the static assets served from the public directory to improve performance, considering that Next.js applies a default Cache-Control: public, max-age=0 header?   \n",
       "2  You're building a dashboard-style internal tool using the Next.js App Router, where performance is critical. You want to:\\n\\nLazy load heavy Client Components (e.g., charts or data visualizations) that arenï¿½t immediately needed on first render.\\n\\nEnsure type-safety using TypeScript for components and props.\\n\\nUse dynamic imports with suspense: true and provide a custom loading fallback UI.\\n\\nOnly load third-party libraries like react-chartjs-2 on the client side to reduce bundle size.\\n\\nHow would you set this up properly across your layout, pages, and components? Include code snippets for the following:\\n1. components/Chart.tsx (Client Component with chart)\\n```\\n'use client'\\n\\nimport { Chart as ChartJS, ArcElement, Tooltip, Legend } from 'chart.js';\\nimport { Doughnut } from 'react-chartjs-2';\\n\\nChartJS.register(ArcElement, Tooltip, Legend);\\n\\ntype ChartProps = {\\n  title: string;\\n  data: number[];\\n};\\n\\nexport default function Chart({ title, data }: ChartProps) {\\n  return (\\n    <div className=\"p-4\">\\n      <h2>{title}</h2>\\n      <Doughnut\\n        data={{\\n          labels: ['A', 'B', 'C'],\\n          datasets: [{\\n            label: title,\\n            data,\\n            backgroundColor: ['#F00', '#0F0', '#00F'],\\n          }]\\n        }}\\n      />\\n    </div>\\n  );\\n}\\n```\\n\\ncomponents/ChartLazy.tsx\\n```\\nimport dynamic from 'next/dynamic';\\n\\nconst Chart = dynamic(() => import('./Chart'), {\\n  ssr: false,\\n  loading: () => <p>Loading chart...</p>,\\n  suspense: true,\\n});\\n\\nexport default Chart;\\n```\\n\\napp/dashboard/page.tsx\\n```\\nimport { Suspense } from 'react';\\nimport Chart from '@/components/ChartLazy';\\n\\nexport default function DashboardPage() {\\n  return (\\n    <main className=\"space-y-8\">\\n      <h1>Dashboard</h1>\\n      <Suspense fallback={<div>Loading Charts...</div>}>\\n        <Chart title=\"User Stats\" data={[10, 20, 30]} />\\n      </Suspense>\\n    </main>\\n  );\\n}\\n```   \n",
       "\n",
       "                                                                                                                                                                                           Expected  \n",
       "0   v15_3_1_react-hydration-error_possible ways to fix it,v15_3_1_07-amp_amp validation,v15_3_1_10-dynamic-routes_convention,v15_3_1_10-dynamic-routes_example,v15_3_1_10-dynamic-routes_typescript  \n",
       "1  v15_3_1_react-hydration-error_possible ways to fix it,v15_3_1_07-amp_amp validation,v15_3_1_04-images-and-fonts_optimizing images,v15_3_1_01-images_image sizing,v15_3_1_image_responsive images  \n",
       "2                                         v15_3_1_react-hydration-error_possible ways to fix it,v15_3_1_07-amp_amp validation,v15_3_1_07-lazy-loading_next/dynamic,v15_3_1_07-lazy-loading_examples  "
      ]
     },
     "execution_count": 3,
     "metadata": {},
     "output_type": "execute_result"
    }
   ],
   "source": [
    "# complex_queries"
   ]
  },
  {
   "cell_type": "code",
   "execution_count": 16,
   "metadata": {},
   "outputs": [],
   "source": [
    "# data_file.head()"
   ]
  },
  {
   "cell_type": "code",
   "execution_count": 4,
   "metadata": {},
   "outputs": [],
   "source": [
    "import requests\n",
    "import json\n",
    "\n",
    "test_api = \"http://localhost:8000/prompt/generate\"\n"
   ]
  },
  {
   "cell_type": "code",
   "execution_count": 18,
   "metadata": {},
   "outputs": [],
   "source": [
    "MODELS = [\n",
    " 'codegemma:2b',\n",
    " 'codellama:7b',\n",
    " 'codestral:22b',\n",
    " 'deepseek-r1:1.5b',\n",
    " 'gemma2:2b',\n",
    " 'llama2:13b',\n",
    " 'llama3.2:3b',\n",
    " 'mistral:7b',\n",
    " 'mistrallite:7b',\n",
    " 'qwen:1.8b',\n",
    " 'qwen:4b',\n",
    " 'qwen2.5:0.5b',\n",
    " 'qwen2.5:1.5b',\n",
    " 'qwen2.5:14b',\n",
    " 'qwen2.5:3b',\n",
    " 'qwen2.5-coder:1.5b']"
   ]
  },
  {
   "cell_type": "code",
   "execution_count": 19,
   "metadata": {},
   "outputs": [],
   "source": [
    "# def precision_at_k(k: int, relevant_docs: list = [], retrieved_docs: list = []):\n",
    "#     return len(set(relevant_docs) & set(retrieved_docs)) / k\n",
    "\n",
    "# def recall_at_k(k: int, relevant_docs: list = [], retrieved_docs: list = []):\n",
    "#     return len(set(relevant_docs) & set(retrieved_docs)) / len(set(relevant_docs))\n",
    "\n",
    "# def get_titles(entry_ids: list = []):\n",
    "#     docs = data_file[data_file[\"entry_id\"].isin(entry_ids)].to_dict(\"records\")\n",
    "#     # print(docs)\n",
    "#     return docs\n"
   ]
  },
  {
   "cell_type": "code",
   "execution_count": 20,
   "metadata": {},
   "outputs": [],
   "source": [
    "# simple_queries_overall.to_csv(\"simple_queries_overall.csv\", sep=',', encoding='utf-8')"
   ]
  },
  {
   "cell_type": "code",
   "execution_count": null,
   "metadata": {},
   "outputs": [],
   "source": []
  },
  {
   "cell_type": "code",
   "execution_count": 22,
   "metadata": {},
   "outputs": [
    {
     "name": "stdout",
     "output_type": "stream",
     "text": [
      "Testing model: mistrallite:latest\n",
      "0 1 2 3 4 5 6 7 \n",
      "Empty DataFrame\n",
      "Columns: [Model, Latency-Generator]\n",
      "Index: []\n",
      "mistrallite:latest 10.41974151134491\n",
      "Testing model: qwen:1.8b\n"
     ]
    },
    {
     "name": "stderr",
     "output_type": "stream",
     "text": [
      "C:\\Users\\PC\\AppData\\Local\\Temp\\ipykernel_16376\\1309259084.py:60: FutureWarning: The behavior of DataFrame concatenation with empty or all-NA entries is deprecated. In a future version, this will no longer exclude empty or all-NA columns when determining the result dtypes. To retain the old behavior, exclude the relevant entries before the concat operation.\n",
      "  simple_queries_overall = pd.concat([pd.DataFrame([[model, lat_gen]], columns=simple_queries_overall.columns), simple_queries_overall], ignore_index=True)\n"
     ]
    },
    {
     "name": "stdout",
     "output_type": "stream",
     "text": [
      "0 1 2 3 4 5 6 7 \n",
      "Empty DataFrame\n",
      "Columns: [Model, Latency-Generator]\n",
      "Index: []\n",
      "qwen:1.8b 6.057451367378235\n",
      "Testing model: qwen:4b\n",
      "0 1 2 3 4 5 6 7 \n",
      "Empty DataFrame\n",
      "Columns: [Model, Latency-Generator]\n",
      "Index: []\n",
      "qwen:4b 2.619233787059784\n",
      "Testing model: qwen2.5:0.5b\n",
      "0 1 2 3 4 5 6 7 \n",
      "Empty DataFrame\n",
      "Columns: [Model, Latency-Generator]\n",
      "Index: []\n",
      "qwen2.5:0.5b 3.521810829639435\n",
      "Testing model: qwen2.5:1.5b\n",
      "0 1 2 3 4 5 6 7 \n",
      "Empty DataFrame\n",
      "Columns: [Model, Latency-Generator]\n",
      "Index: []\n",
      "qwen2.5:1.5b 4.528248101472855\n",
      "Testing model: qwen2.5:14b\n",
      "0 1 2 3 4 5 6 7 \n",
      "Empty DataFrame\n",
      "Columns: [Model, Latency-Generator]\n",
      "Index: []\n",
      "qwen2.5:14b 29.484867483377457\n",
      "Testing model: qwen2.5:3b\n",
      "0 1 2 3 4 5 6 7 \n",
      "Empty DataFrame\n",
      "Columns: [Model, Latency-Generator]\n",
      "Index: []\n",
      "qwen2.5:3b 9.547015190124512\n",
      "Testing model: qwen2.5-coder:1.5b\n",
      "0 1 2 3 4 5 6 7 \n",
      "Empty DataFrame\n",
      "Columns: [Model, Latency-Generator]\n",
      "Index: []\n",
      "qwen2.5-coder:1.5b 4.156476259231567\n"
     ]
    }
   ],
   "source": [
    "# test simple queries\n",
    "\n",
    "MODELS = [\n",
    "#  'codegemma:2b',\n",
    "#  'codellama:7b',\n",
    "#  'codestral:22b',\n",
    "#  'deepseek-r1:1.5b',\n",
    "#  'gemma2:2b',\n",
    "#  'llama2:13b',\n",
    "#  'llama3.2:3b',\n",
    "#  'mistral:latest',\n",
    " 'mistrallite:latest',\n",
    " 'qwen:1.8b',\n",
    " 'qwen:4b',\n",
    " 'qwen2.5:0.5b',\n",
    " 'qwen2.5:1.5b',\n",
    " 'qwen2.5:14b',\n",
    " 'qwen2.5:3b',\n",
    " 'qwen2.5-coder:1.5b']\n",
    "\n",
    "\n",
    "simple_queries_overall = pd.DataFrame(columns=[\"Model\", \"Latency-Generator\"])\n",
    "save_file_name = f\"simple_queries_results_generator.csv\"\n",
    "for model in MODELS:\n",
    "    body = {\n",
    "        \"version_name\": \"v15.3.1\",\n",
    "        \"query\": \"\",\n",
    "        \"model\": model,\n",
    "        \"additional_options\": {\n",
    "            \"retriever_options\": {\n",
    "            \"top_k\": 5},\n",
    "            \"generator_options\": {}\n",
    "        }\n",
    "    }\n",
    "    print(f\"Testing model: {model}\")\n",
    "    simple_queries_results = pd.DataFrame(columns=[\"Model\", \"Latency-Generator\"])\n",
    "    latency_real = []\n",
    "    for index, row in simple_queries.iterrows():\n",
    "        question = row[\"Question\"]\n",
    "        # ids = row[\"Expected\"].split(\",\")\n",
    "        # expected_titles = [data['title'] for data in get_titles(ids)]\n",
    "        body[\"query\"] = question\n",
    "        response = requests.post(test_api, json=body)\n",
    "        # get_titles(ids)\n",
    "        result = json.loads(response.text)\n",
    "        # retrieved_docs = result['retrieved_data']['docs']\n",
    "        # print(\"=======\")\n",
    "        print(index, end=\" \")\n",
    "        # print(\"Expected:\",expected_titles)\n",
    "        # print(\"Got\",retrieved_docs)\n",
    "        latency_gen = result['latency']['generate_time']\n",
    "        # simple_queries_results = pd.concat([pd.DataFrame([[model, latency_gen]], columns=simple_queries_results.columns), simple_queries_results], ignore_index=True)\n",
    "        latency_real.append(latency_gen)\n",
    "    print()\n",
    "    print(simple_queries_results)\n",
    "    # simple_queries_results.to_csv(os.path.join('results', save_file_name), sep=',', encoding='utf-8')\n",
    "\n",
    "    lat_gen = np.array(latency_real).mean()\n",
    "    print(model, lat_gen)\n",
    "    simple_queries_overall = pd.concat([pd.DataFrame([[model, lat_gen]], columns=simple_queries_overall.columns), simple_queries_overall], ignore_index=True)\n",
    "# result = json.loads(response.text)\n",
    "# print(result)\n",
    "simple_queries_overall.to_csv(\"simple_queries_overall.csv\", sep=',', encoding='utf-8')"
   ]
  },
  {
   "cell_type": "code",
   "execution_count": 6,
   "metadata": {},
   "outputs": [
    {
     "name": "stdout",
     "output_type": "stream",
     "text": [
      "Testing model: deepseek-r1:1.5b\n",
      "0 1 2 \n",
      "deepseek-r1:1.5b 14.0031947294871\n",
      "Testing model: gemma2:2b\n"
     ]
    },
    {
     "name": "stderr",
     "output_type": "stream",
     "text": [
      "C:\\Users\\PC\\AppData\\Local\\Temp\\ipykernel_18132\\1464343311.py:59: FutureWarning: The behavior of DataFrame concatenation with empty or all-NA entries is deprecated. In a future version, this will no longer exclude empty or all-NA columns when determining the result dtypes. To retain the old behavior, exclude the relevant entries before the concat operation.\n",
      "  complex_queries_overall = pd.concat([complex_queries_overall, pd.DataFrame([[model, lat_gen]], columns=complex_queries_overall.columns)], ignore_index=True)\n"
     ]
    },
    {
     "name": "stdout",
     "output_type": "stream",
     "text": [
      "0 1 2 \n",
      "gemma2:2b 14.287056128184\n",
      "Testing model: llama2:13b\n",
      "0 1 2 \n",
      "llama2:13b 72.19064791997273\n",
      "Testing model: llama3.2:3b\n",
      "0 1 2 \n",
      "llama3.2:3b 14.012724876403809\n",
      "Testing model: mistral:latest\n",
      "0 1 2 \n",
      "mistral:latest 22.3547945022583\n",
      "Testing model: mistrallite:latest\n",
      "0 1 2 \n",
      "mistrallite:latest 20.42470145225525\n",
      "Testing model: qwen:1.8b\n",
      "0 1 2 \n",
      "qwen:1.8b 5.004230658213298\n",
      "Testing model: qwen:4b\n",
      "0 1 2 \n",
      "qwen:4b 5.058344761530559\n",
      "Testing model: qwen2.5:0.5b\n",
      "0 1 2 \n",
      "qwen2.5:0.5b 5.66171924273173\n",
      "Testing model: qwen2.5:1.5b\n",
      "0 1 2 \n",
      "qwen2.5:1.5b 9.644121249516806\n",
      "Testing model: qwen2.5:14b\n",
      "0 1 2 \n",
      "qwen2.5:14b 46.14466881752014\n",
      "Testing model: qwen2.5:3b\n",
      "0 1 2 \n",
      "qwen2.5:3b 15.169909318288168\n",
      "Testing model: qwen2.5-coder:1.5b\n",
      "0 1 2 \n",
      "qwen2.5-coder:1.5b 7.602213621139526\n"
     ]
    }
   ],
   "source": [
    "# test complex queries\n",
    "import numpy as np\n",
    "MODELS = [\n",
    "#  'codegemma:2b',\n",
    "#  'codellama:7b',\n",
    "#  'codestral:22b',\n",
    " 'deepseek-r1:1.5b',\n",
    " 'gemma2:2b',\n",
    " 'llama2:13b',\n",
    " 'llama3.2:3b',\n",
    " 'mistral:latest',\n",
    " 'mistrallite:latest',\n",
    " 'qwen:1.8b',\n",
    " 'qwen:4b',\n",
    " 'qwen2.5:0.5b',\n",
    " 'qwen2.5:1.5b',\n",
    " 'qwen2.5:14b',\n",
    " 'qwen2.5:3b',\n",
    " 'qwen2.5-coder:1.5b']\n",
    "\n",
    "complex_queries_overall = pd.DataFrame(columns=[\"Model\", \"Latency-Generator\"])\n",
    "save_file_name = f\"complex_queries_results_generator.csv\"\n",
    "for model in MODELS:\n",
    "    body = {\n",
    "        \"version_name\": \"v15.3.1\",\n",
    "        \"query\": \"\",\n",
    "        \"model\": model,\n",
    "        \"additional_options\": {\n",
    "            \"retriever_options\": {\n",
    "            \"top_k\": 5},\n",
    "            \"generator_options\": {}\n",
    "        }\n",
    "    }\n",
    "    print(f\"Testing model: {model}\")\n",
    "    # simple_queries_results = pd.DataFrame(columns=[\"Model\", \"Latency-Generator\"])\n",
    "    latency_real = []\n",
    "    for index, row in complex_queries.iterrows():\n",
    "        question = row[\"Question\"]\n",
    "        # ids = row[\"Expected\"].split(\",\")\n",
    "        # expected_titles = [data['title'] for data in get_titles(ids)]\n",
    "        body[\"query\"] = question\n",
    "        response = requests.post(test_api, json=body)\n",
    "        # get_titles(ids)\n",
    "        result = json.loads(response.text)\n",
    "        # retrieved_docs = result['retrieved_data']['docs']\n",
    "        # print(\"=======\")\n",
    "        print(index, end=\" \")\n",
    "        # print(\"Expected:\",expected_titles)\n",
    "        # print(\"Got\",retrieved_docs)\n",
    "        latency_gen = result['latency']['generate_time']\n",
    "        # simple_queries_results = pd.concat([pd.DataFrame([[model, latency_gen]], columns=simple_queries_results.columns), simple_queries_results], ignore_index=True)\n",
    "        latency_real.append(latency_gen)\n",
    "    print()\n",
    "    # print(simple_queries_results)\n",
    "    # simple_queries_results.to_csv(os.path.join('results', save_file_name), sep=',', encoding='utf-8')\n",
    "\n",
    "    lat_gen = np.array(latency_real).mean()\n",
    "    print(model, lat_gen)\n",
    "    complex_queries_overall = pd.concat([complex_queries_overall, pd.DataFrame([[model, lat_gen]], columns=complex_queries_overall.columns)], ignore_index=True)\n",
    "    # simple_queries_overall = pd.concat([pd.DataFrame([[model, lat_gen]], columns=simple_queries_overall.columns), simple_queries_overall], ignore_index=True)\n",
    "# result = json.loads(response.text)\n",
    "# print(result)\n",
    "complex_queries_overall.to_csv(\"complex_queries_overall.csv\", sep=',', encoding='utf-8')"
   ]
  },
  {
   "cell_type": "code",
   "execution_count": null,
   "metadata": {},
   "outputs": [
    {
     "data": {
      "text/plain": [
       "147.64626367886862"
      ]
     },
     "execution_count": 1,
     "metadata": {},
     "output_type": "execute_result"
    }
   ],
   "source": [
    "# a = (176.81941652297974 + 178.4326868057251 + 87.686687707901) / 3\n",
    "# a"
   ]
  },
  {
   "cell_type": "code",
   "execution_count": null,
   "metadata": {},
   "outputs": [],
   "source": [
    "# lat_gen = np.array(latency_real).mean()\n",
    "# print(model, lat_gen)\n",
    "# complex_queries_overall = pd.concat([complex_queries_overall, pd.DataFrame([[model, lat_gen]], columns=complex_queries_overall.columns)], ignore_index=True)"
   ]
  },
  {
   "cell_type": "code",
   "execution_count": null,
   "metadata": {},
   "outputs": [],
   "source": [
    "# precision_mean = complex_queries_results['Precision'].mean()\n",
    "# recall_mean = complex_queries_results['Recall'].mean()\n",
    "# latency_ret_mean = complex_queries_results['Latency-Retriever'].mean()\n",
    "# latency_gen_mean = complex_queries_results['Latency-Generator'].mean()\n",
    "\n",
    "# print(f\"Precision: {precision_mean}, Recall: {recall_mean}, Latency-Retriever: {latency_ret_mean}, Latency-Generator: {latency_gen_mean}\")"
   ]
  },
  {
   "cell_type": "code",
   "execution_count": null,
   "metadata": {},
   "outputs": [],
   "source": []
  }
 ],
 "metadata": {
  "kernelspec": {
   "display_name": "local_ai",
   "language": "python",
   "name": "python3"
  },
  "language_info": {
   "codemirror_mode": {
    "name": "ipython",
    "version": 3
   },
   "file_extension": ".py",
   "mimetype": "text/x-python",
   "name": "python",
   "nbconvert_exporter": "python",
   "pygments_lexer": "ipython3",
   "version": "3.10.17"
  }
 },
 "nbformat": 4,
 "nbformat_minor": 2
}
