{
 "cells": [
  {
   "cell_type": "code",
   "execution_count": 1,
   "metadata": {},
   "outputs": [],
   "source": [
    "# get testcase\n",
    "import os\n",
    "import pandas as pd\n",
    "pd.set_option('display.max_colwidth', None)\n",
    "\n",
    "simple_queries = pd.read_csv(\"simpleQueries.csv\", sep=\";\", encoding=\"utf-8\")\n",
    "complex_queries = pd.read_csv(\"complexQueries.csv\", sep=\",\", encoding=\"cp1252\")\n",
    "\n",
    "data_file = pd.read_csv(\"v15.3.1.csv\", sep=\",\", encoding=\"utf-8\")\n",
    "data_file = data_file[['entry_id', 'title']]"
   ]
  },
  {
   "cell_type": "code",
   "execution_count": 2,
   "metadata": {},
   "outputs": [
    {
     "data": {
      "text/html": [
       "<div>\n",
       "<style scoped>\n",
       "    .dataframe tbody tr th:only-of-type {\n",
       "        vertical-align: middle;\n",
       "    }\n",
       "\n",
       "    .dataframe tbody tr th {\n",
       "        vertical-align: top;\n",
       "    }\n",
       "\n",
       "    .dataframe thead th {\n",
       "        text-align: right;\n",
       "    }\n",
       "</style>\n",
       "<table border=\"1\" class=\"dataframe\">\n",
       "  <thead>\n",
       "    <tr style=\"text-align: right;\">\n",
       "      <th></th>\n",
       "      <th>Question</th>\n",
       "      <th>Expected</th>\n",
       "    </tr>\n",
       "  </thead>\n",
       "  <tbody>\n",
       "    <tr>\n",
       "      <th>0</th>\n",
       "      <td>How to use Route Group?</td>\n",
       "      <td>v15_3_1_08-route-groups_convention,v15_3_1_11-parallel-routes_examples,v15_3_1_invalid-href-passed_useful links,v15_3_1_invalid-relative-url-external-as_useful links,v15_3_1_react-hydration-error_possible ways to fix it</td>\n",
       "    </tr>\n",
       "    <tr>\n",
       "      <th>1</th>\n",
       "      <td>How to generate static params in Dynamic Routes?</td>\n",
       "      <td>v15_3_1_10-dynamic-routes_example,v15_3_1_10-dynamic-routes_generating static params,v15_3_1_react-hydration-error_possible ways to fix it,v15_3_1_16-progressive-web-apps_creating a pwa with next_js,v15_3_1_index_apis</td>\n",
       "    </tr>\n",
       "    <tr>\n",
       "      <th>2</th>\n",
       "      <td>How to use Parallel Routes?</td>\n",
       "      <td>v15_3_1_react-hydration-error_possible ways to fix it,v15_3_1_16-progressive-web-apps_creating a pwa with next_js,v15_3_1_index_apis</td>\n",
       "    </tr>\n",
       "    <tr>\n",
       "      <th>3</th>\n",
       "      <td>What is the naming convention for Intercepting Routes, show me some examples.</td>\n",
       "      <td>v15_3_1_12-intercepting-routes_convention,v15_3_1_next-prerender-sync-request_useful links,v15_3_1_invalid-i18n-config_useful links,v15_3_1_react-hydration-error_possible ways to fix it</td>\n",
       "    </tr>\n",
       "    <tr>\n",
       "      <th>4</th>\n",
       "      <td>What is Middleware and when does it run?</td>\n",
       "      <td>v15_3_1_react-hydration-error_possible ways to fix it,v15_3_1_16-progressive-web-apps_creating a pwa with next_js,v15_3_1_07-amp_amp validation,v15_3_1_index_apis,v15_3_1_image_advanced props</td>\n",
       "    </tr>\n",
       "  </tbody>\n",
       "</table>\n",
       "</div>"
      ],
      "text/plain": [
       "                                                                        Question  \\\n",
       "0                                                        How to use Route Group?   \n",
       "1                               How to generate static params in Dynamic Routes?   \n",
       "2                                                    How to use Parallel Routes?   \n",
       "3  What is the naming convention for Intercepting Routes, show me some examples.   \n",
       "4                                       What is Middleware and when does it run?   \n",
       "\n",
       "                                                                                                                                                                                                                      Expected  \n",
       "0  v15_3_1_08-route-groups_convention,v15_3_1_11-parallel-routes_examples,v15_3_1_invalid-href-passed_useful links,v15_3_1_invalid-relative-url-external-as_useful links,v15_3_1_react-hydration-error_possible ways to fix it  \n",
       "1    v15_3_1_10-dynamic-routes_example,v15_3_1_10-dynamic-routes_generating static params,v15_3_1_react-hydration-error_possible ways to fix it,v15_3_1_16-progressive-web-apps_creating a pwa with next_js,v15_3_1_index_apis  \n",
       "2                                                                                         v15_3_1_react-hydration-error_possible ways to fix it,v15_3_1_16-progressive-web-apps_creating a pwa with next_js,v15_3_1_index_apis  \n",
       "3                                    v15_3_1_12-intercepting-routes_convention,v15_3_1_next-prerender-sync-request_useful links,v15_3_1_invalid-i18n-config_useful links,v15_3_1_react-hydration-error_possible ways to fix it  \n",
       "4                              v15_3_1_react-hydration-error_possible ways to fix it,v15_3_1_16-progressive-web-apps_creating a pwa with next_js,v15_3_1_07-amp_amp validation,v15_3_1_index_apis,v15_3_1_image_advanced props  "
      ]
     },
     "execution_count": 2,
     "metadata": {},
     "output_type": "execute_result"
    }
   ],
   "source": [
    "simple_queries.head()"
   ]
  },
  {
   "cell_type": "code",
   "execution_count": 3,
   "metadata": {},
   "outputs": [
    {
     "data": {
      "text/html": [
       "<div>\n",
       "<style scoped>\n",
       "    .dataframe tbody tr th:only-of-type {\n",
       "        vertical-align: middle;\n",
       "    }\n",
       "\n",
       "    .dataframe tbody tr th {\n",
       "        vertical-align: top;\n",
       "    }\n",
       "\n",
       "    .dataframe thead th {\n",
       "        text-align: right;\n",
       "    }\n",
       "</style>\n",
       "<table border=\"1\" class=\"dataframe\">\n",
       "  <thead>\n",
       "    <tr style=\"text-align: right;\">\n",
       "      <th></th>\n",
       "      <th>Question</th>\n",
       "      <th>Expected</th>\n",
       "    </tr>\n",
       "  </thead>\n",
       "  <tbody>\n",
       "    <tr>\n",
       "      <th>0</th>\n",
       "      <td>How can I implement a dynamic post editing feature in a Next.js application using the App Router?\\r\\n\\r\\nThe post editing form is a Client Component utilizing useState for local state management.?\\r\\n\\r\\nThe form submits data to a Server Action defined with the \"use server\" directive.?\\r\\n\\r\\nUpon successful submission, the application revalidates the cache for the updated post and redirects the user to the post's detail page.?\\r\\n\\r\\nThe application provides feedback to the user during the submission process, such as loading indicators and error messages.?\\r\\n\\r\\nAdditionally, how can I ensure that sensitive operations, like updating the post in the database, are securely handled on the server side, and that the client does not have direct access to sensitive information??\\r\\n\\r\\nPlease provide code snippets in TypeScript that demonstrate this functionality.</td>\n",
       "      <td>v15_3_1_react-hydration-error_possible ways to fix it,v15_3_1_07-amp_amp validation,v15_3_1_10-dynamic-routes_convention,v15_3_1_10-dynamic-routes_example,v15_3_1_10-dynamic-routes_typescript</td>\n",
       "    </tr>\n",
       "    <tr>\n",
       "      <th>1</th>\n",
       "      <td>How can I implement a responsive image gallery in a Next.js application using the App Router?\\r\\n\\r\\nImages are stored in the public directory and served as static assets.?\\r\\n\\r\\nThe gallery utilizes the next/image component to optimize images for different device sizes and resolutions.?\\r\\n\\r\\nThe application ensures that images are lazy-loaded and do not cause layout shifts during loading.?\\r\\n\\r\\nThe gallery supports both local images from the public directory and remote images from a trusted external source, with appropriate configuration in next.config.js.?\\r\\n\\r\\nThe application provides a fallback mechanism for images that fail to load.?\\r\\n\\r\\nAdditionally, how can I configure caching headers for the static assets served from the public directory to improve performance, considering that Next.js applies a default Cache-Control: public, max-age=0 header?</td>\n",
       "      <td>v15_3_1_react-hydration-error_possible ways to fix it,v15_3_1_07-amp_amp validation,v15_3_1_04-images-and-fonts_optimizing images,v15_3_1_01-images_image sizing,v15_3_1_image_responsive images</td>\n",
       "    </tr>\n",
       "    <tr>\n",
       "      <th>2</th>\n",
       "      <td>You're building a dashboard-style internal tool using the Next.js App Router, where performance is critical. You want to:\\r\\n\\r\\nLazy load heavy Client Components (e.g., charts or data visualizations) that arenï¿½t immediately needed on first render.\\r\\n\\r\\nEnsure type-safety using TypeScript for components and props.\\r\\n\\r\\nUse dynamic imports with suspense: true and provide a custom loading fallback UI.\\r\\n\\r\\nOnly load third-party libraries like react-chartjs-2 on the client side to reduce bundle size.\\r\\n\\r\\nHow would you set this up properly across your layout, pages, and components? Include code snippets for the following:\\r\\n1. components/Chart.tsx (Client Component with chart)\\r\\n```\\r\\n'use client'\\r\\n\\r\\nimport { Chart as ChartJS, ArcElement, Tooltip, Legend } from 'chart.js';\\r\\nimport { Doughnut } from 'react-chartjs-2';\\r\\n\\r\\nChartJS.register(ArcElement, Tooltip, Legend);\\r\\n\\r\\ntype ChartProps = {\\r\\n  title: string;\\r\\n  data: number[];\\r\\n};\\r\\n\\r\\nexport default function Chart({ title, data }: ChartProps) {\\r\\n  return (\\r\\n    &lt;div className=\"p-4\"&gt;\\r\\n      &lt;h2&gt;{title}&lt;/h2&gt;\\r\\n      &lt;Doughnut\\r\\n        data={{\\r\\n          labels: ['A', 'B', 'C'],\\r\\n          datasets: [{\\r\\n            label: title,\\r\\n            data,\\r\\n            backgroundColor: ['#F00', '#0F0', '#00F'],\\r\\n          }]\\r\\n        }}\\r\\n      /&gt;\\r\\n    &lt;/div&gt;\\r\\n  );\\r\\n}\\r\\n```\\r\\n\\r\\ncomponents/ChartLazy.tsx\\r\\n```\\r\\nimport dynamic from 'next/dynamic';\\r\\n\\r\\nconst Chart = dynamic(() =&gt; import('./Chart'), {\\r\\n  ssr: false,\\r\\n  loading: () =&gt; &lt;p&gt;Loading chart...&lt;/p&gt;,\\r\\n  suspense: true,\\r\\n});\\r\\n\\r\\nexport default Chart;\\r\\n```\\r\\n\\r\\napp/dashboard/page.tsx\\r\\n```\\r\\nimport { Suspense } from 'react';\\r\\nimport Chart from '@/components/ChartLazy';\\r\\n\\r\\nexport default function DashboardPage() {\\r\\n  return (\\r\\n    &lt;main className=\"space-y-8\"&gt;\\r\\n      &lt;h1&gt;Dashboard&lt;/h1&gt;\\r\\n      &lt;Suspense fallback={&lt;div&gt;Loading Charts...&lt;/div&gt;}&gt;\\r\\n        &lt;Chart title=\"User Stats\" data={[10, 20, 30]} /&gt;\\r\\n      &lt;/Suspense&gt;\\r\\n    &lt;/main&gt;\\r\\n  );\\r\\n}\\r\\n```</td>\n",
       "      <td>v15_3_1_react-hydration-error_possible ways to fix it,v15_3_1_07-amp_amp validation,v15_3_1_07-lazy-loading_next/dynamic,v15_3_1_07-lazy-loading_examples</td>\n",
       "    </tr>\n",
       "  </tbody>\n",
       "</table>\n",
       "</div>"
      ],
      "text/plain": [
       "                                                                                                                                                                                                                                                                                                                                                                                                                                                                                                                                                                                                                                                                                                                                                                                                                                                                                                                                                                                                                                                                                                                                                                                                                                                                                                                                                                                                                                                                                                                                                                                                                                                                                                                                                                                                                                                                                                                                                                                                                                                                                                                                                          Question  \\\n",
       "0                                                                                                                                                                                                                                                                                                                                                                                                                                                                                                                                                                                                                                                                                                                                                                                                                                                                                                                                                                                                                                                                                                                                                                                                                                                          How can I implement a dynamic post editing feature in a Next.js application using the App Router?\\r\\n\\r\\nThe post editing form is a Client Component utilizing useState for local state management.?\\r\\n\\r\\nThe form submits data to a Server Action defined with the \"use server\" directive.?\\r\\n\\r\\nUpon successful submission, the application revalidates the cache for the updated post and redirects the user to the post's detail page.?\\r\\n\\r\\nThe application provides feedback to the user during the submission process, such as loading indicators and error messages.?\\r\\n\\r\\nAdditionally, how can I ensure that sensitive operations, like updating the post in the database, are securely handled on the server side, and that the client does not have direct access to sensitive information??\\r\\n\\r\\nPlease provide code snippets in TypeScript that demonstrate this functionality.   \n",
       "1                                                                                                                                                                                                                                                                                                                                                                                                                                                                                                                                                                                                                                                                                                                                                                                                                                                                                                                                                                                                                                                                                                                                                                                                                                                        How can I implement a responsive image gallery in a Next.js application using the App Router?\\r\\n\\r\\nImages are stored in the public directory and served as static assets.?\\r\\n\\r\\nThe gallery utilizes the next/image component to optimize images for different device sizes and resolutions.?\\r\\n\\r\\nThe application ensures that images are lazy-loaded and do not cause layout shifts during loading.?\\r\\n\\r\\nThe gallery supports both local images from the public directory and remote images from a trusted external source, with appropriate configuration in next.config.js.?\\r\\n\\r\\nThe application provides a fallback mechanism for images that fail to load.?\\r\\n\\r\\nAdditionally, how can I configure caching headers for the static assets served from the public directory to improve performance, considering that Next.js applies a default Cache-Control: public, max-age=0 header?   \n",
       "2  You're building a dashboard-style internal tool using the Next.js App Router, where performance is critical. You want to:\\r\\n\\r\\nLazy load heavy Client Components (e.g., charts or data visualizations) that arenï¿½t immediately needed on first render.\\r\\n\\r\\nEnsure type-safety using TypeScript for components and props.\\r\\n\\r\\nUse dynamic imports with suspense: true and provide a custom loading fallback UI.\\r\\n\\r\\nOnly load third-party libraries like react-chartjs-2 on the client side to reduce bundle size.\\r\\n\\r\\nHow would you set this up properly across your layout, pages, and components? Include code snippets for the following:\\r\\n1. components/Chart.tsx (Client Component with chart)\\r\\n```\\r\\n'use client'\\r\\n\\r\\nimport { Chart as ChartJS, ArcElement, Tooltip, Legend } from 'chart.js';\\r\\nimport { Doughnut } from 'react-chartjs-2';\\r\\n\\r\\nChartJS.register(ArcElement, Tooltip, Legend);\\r\\n\\r\\ntype ChartProps = {\\r\\n  title: string;\\r\\n  data: number[];\\r\\n};\\r\\n\\r\\nexport default function Chart({ title, data }: ChartProps) {\\r\\n  return (\\r\\n    <div className=\"p-4\">\\r\\n      <h2>{title}</h2>\\r\\n      <Doughnut\\r\\n        data={{\\r\\n          labels: ['A', 'B', 'C'],\\r\\n          datasets: [{\\r\\n            label: title,\\r\\n            data,\\r\\n            backgroundColor: ['#F00', '#0F0', '#00F'],\\r\\n          }]\\r\\n        }}\\r\\n      />\\r\\n    </div>\\r\\n  );\\r\\n}\\r\\n```\\r\\n\\r\\ncomponents/ChartLazy.tsx\\r\\n```\\r\\nimport dynamic from 'next/dynamic';\\r\\n\\r\\nconst Chart = dynamic(() => import('./Chart'), {\\r\\n  ssr: false,\\r\\n  loading: () => <p>Loading chart...</p>,\\r\\n  suspense: true,\\r\\n});\\r\\n\\r\\nexport default Chart;\\r\\n```\\r\\n\\r\\napp/dashboard/page.tsx\\r\\n```\\r\\nimport { Suspense } from 'react';\\r\\nimport Chart from '@/components/ChartLazy';\\r\\n\\r\\nexport default function DashboardPage() {\\r\\n  return (\\r\\n    <main className=\"space-y-8\">\\r\\n      <h1>Dashboard</h1>\\r\\n      <Suspense fallback={<div>Loading Charts...</div>}>\\r\\n        <Chart title=\"User Stats\" data={[10, 20, 30]} />\\r\\n      </Suspense>\\r\\n    </main>\\r\\n  );\\r\\n}\\r\\n```   \n",
       "\n",
       "                                                                                                                                                                                           Expected  \n",
       "0   v15_3_1_react-hydration-error_possible ways to fix it,v15_3_1_07-amp_amp validation,v15_3_1_10-dynamic-routes_convention,v15_3_1_10-dynamic-routes_example,v15_3_1_10-dynamic-routes_typescript  \n",
       "1  v15_3_1_react-hydration-error_possible ways to fix it,v15_3_1_07-amp_amp validation,v15_3_1_04-images-and-fonts_optimizing images,v15_3_1_01-images_image sizing,v15_3_1_image_responsive images  \n",
       "2                                         v15_3_1_react-hydration-error_possible ways to fix it,v15_3_1_07-amp_amp validation,v15_3_1_07-lazy-loading_next/dynamic,v15_3_1_07-lazy-loading_examples  "
      ]
     },
     "execution_count": 3,
     "metadata": {},
     "output_type": "execute_result"
    }
   ],
   "source": [
    "complex_queries.head()"
   ]
  },
  {
   "cell_type": "code",
   "execution_count": 4,
   "metadata": {},
   "outputs": [
    {
     "data": {
      "text/html": [
       "<div>\n",
       "<style scoped>\n",
       "    .dataframe tbody tr th:only-of-type {\n",
       "        vertical-align: middle;\n",
       "    }\n",
       "\n",
       "    .dataframe tbody tr th {\n",
       "        vertical-align: top;\n",
       "    }\n",
       "\n",
       "    .dataframe thead th {\n",
       "        text-align: right;\n",
       "    }\n",
       "</style>\n",
       "<table border=\"1\" class=\"dataframe\">\n",
       "  <thead>\n",
       "    <tr style=\"text-align: right;\">\n",
       "      <th></th>\n",
       "      <th>entry_id</th>\n",
       "      <th>title</th>\n",
       "    </tr>\n",
       "  </thead>\n",
       "  <tbody>\n",
       "    <tr>\n",
       "      <th>0</th>\n",
       "      <td>v15_3_1_index_what is next_js?</td>\n",
       "      <td>index - Welcome to the Next.js Documentation. - What is Next.js?</td>\n",
       "    </tr>\n",
       "    <tr>\n",
       "      <th>1</th>\n",
       "      <td>v15_3_1_index_main features</td>\n",
       "      <td>index - Welcome to the Next.js Documentation. - Main Features</td>\n",
       "    </tr>\n",
       "    <tr>\n",
       "      <th>2</th>\n",
       "      <td>v15_3_1_index_how to use these docs</td>\n",
       "      <td>index - Welcome to the Next.js Documentation. - How to Use These Docs</td>\n",
       "    </tr>\n",
       "    <tr>\n",
       "      <th>3</th>\n",
       "      <td>v15_3_1_index_app router vs pages router</td>\n",
       "      <td>index - Welcome to the Next.js Documentation. - App Router vs Pages Router</td>\n",
       "    </tr>\n",
       "    <tr>\n",
       "      <th>4</th>\n",
       "      <td>v15_3_1_index_pre-requisite knowledge</td>\n",
       "      <td>index - Welcome to the Next.js Documentation. - Pre-Requisite Knowledge</td>\n",
       "    </tr>\n",
       "  </tbody>\n",
       "</table>\n",
       "</div>"
      ],
      "text/plain": [
       "                                   entry_id  \\\n",
       "0            v15_3_1_index_what is next_js?   \n",
       "1               v15_3_1_index_main features   \n",
       "2       v15_3_1_index_how to use these docs   \n",
       "3  v15_3_1_index_app router vs pages router   \n",
       "4     v15_3_1_index_pre-requisite knowledge   \n",
       "\n",
       "                                                                        title  \n",
       "0            index - Welcome to the Next.js Documentation. - What is Next.js?  \n",
       "1               index - Welcome to the Next.js Documentation. - Main Features  \n",
       "2       index - Welcome to the Next.js Documentation. - How to Use These Docs  \n",
       "3  index - Welcome to the Next.js Documentation. - App Router vs Pages Router  \n",
       "4     index - Welcome to the Next.js Documentation. - Pre-Requisite Knowledge  "
      ]
     },
     "execution_count": 4,
     "metadata": {},
     "output_type": "execute_result"
    }
   ],
   "source": [
    "data_file.head()"
   ]
  },
  {
   "cell_type": "code",
   "execution_count": 5,
   "metadata": {},
   "outputs": [],
   "source": [
    "import requests\n",
    "import json\n",
    "\n",
    "test_api = \"http://localhost:8000/prompt/generate\"\n"
   ]
  },
  {
   "cell_type": "code",
   "execution_count": 6,
   "metadata": {},
   "outputs": [],
   "source": [
    "def precision_at_k(k: int, relevant_docs: list = [], retrieved_docs: list = []):\n",
    "    return len(set(relevant_docs) & set(retrieved_docs)) / k\n",
    "\n",
    "def recall_at_k(k: int, relevant_docs: list = [], retrieved_docs: list = []):\n",
    "    return len(set(relevant_docs) & set(retrieved_docs)) / len(set(relevant_docs))\n",
    "\n",
    "def get_titles(entry_ids: list = []):\n",
    "    docs = data_file[data_file[\"entry_id\"].isin(entry_ids)].to_dict(\"records\")\n",
    "    # print(docs)\n",
    "    return docs\n"
   ]
  },
  {
   "cell_type": "code",
   "execution_count": 20,
   "metadata": {},
   "outputs": [
    {
     "name": "stdout",
     "output_type": "stream",
     "text": [
      "@1\n"
     ]
    },
    {
     "name": "stderr",
     "output_type": "stream",
     "text": [
      "C:\\Users\\PC\\AppData\\Local\\Temp\\ipykernel_15252\\2256381513.py:61: FutureWarning: The behavior of DataFrame concatenation with empty or all-NA entries is deprecated. In a future version, this will no longer exclude empty or all-NA columns when determining the result dtypes. To retain the old behavior, exclude the relevant entries before the concat operation.\n",
      "  simple_queries_results = pd.concat([pd.DataFrame([[precision, recall, latency_ret]], columns=simple_queries_results.columns), simple_queries_results], ignore_index=True)\n",
      "C:\\Users\\PC\\AppData\\Local\\Temp\\ipykernel_15252\\2256381513.py:66: FutureWarning: The behavior of DataFrame concatenation with empty or all-NA entries is deprecated. In a future version, this will no longer exclude empty or all-NA columns when determining the result dtypes. To retain the old behavior, exclude the relevant entries before the concat operation.\n",
      "  simple_queries_overall = pd.concat([pd.DataFrame([[at_k ,precision_atk, recall_atk, lat_ret]], columns=simple_queries_overall.columns), simple_queries_overall], ignore_index=True)\n"
     ]
    },
    {
     "name": "stdout",
     "output_type": "stream",
     "text": [
      "@3\n"
     ]
    },
    {
     "name": "stderr",
     "output_type": "stream",
     "text": [
      "C:\\Users\\PC\\AppData\\Local\\Temp\\ipykernel_15252\\2256381513.py:61: FutureWarning: The behavior of DataFrame concatenation with empty or all-NA entries is deprecated. In a future version, this will no longer exclude empty or all-NA columns when determining the result dtypes. To retain the old behavior, exclude the relevant entries before the concat operation.\n",
      "  simple_queries_results = pd.concat([pd.DataFrame([[precision, recall, latency_ret]], columns=simple_queries_results.columns), simple_queries_results], ignore_index=True)\n"
     ]
    },
    {
     "name": "stdout",
     "output_type": "stream",
     "text": [
      "@5\n"
     ]
    },
    {
     "name": "stderr",
     "output_type": "stream",
     "text": [
      "C:\\Users\\PC\\AppData\\Local\\Temp\\ipykernel_15252\\2256381513.py:61: FutureWarning: The behavior of DataFrame concatenation with empty or all-NA entries is deprecated. In a future version, this will no longer exclude empty or all-NA columns when determining the result dtypes. To retain the old behavior, exclude the relevant entries before the concat operation.\n",
      "  simple_queries_results = pd.concat([pd.DataFrame([[precision, recall, latency_ret]], columns=simple_queries_results.columns), simple_queries_results], ignore_index=True)\n"
     ]
    },
    {
     "name": "stdout",
     "output_type": "stream",
     "text": [
      "@7\n"
     ]
    },
    {
     "name": "stderr",
     "output_type": "stream",
     "text": [
      "C:\\Users\\PC\\AppData\\Local\\Temp\\ipykernel_15252\\2256381513.py:61: FutureWarning: The behavior of DataFrame concatenation with empty or all-NA entries is deprecated. In a future version, this will no longer exclude empty or all-NA columns when determining the result dtypes. To retain the old behavior, exclude the relevant entries before the concat operation.\n",
      "  simple_queries_results = pd.concat([pd.DataFrame([[precision, recall, latency_ret]], columns=simple_queries_results.columns), simple_queries_results], ignore_index=True)\n"
     ]
    },
    {
     "name": "stdout",
     "output_type": "stream",
     "text": [
      "@1\n"
     ]
    },
    {
     "name": "stderr",
     "output_type": "stream",
     "text": [
      "C:\\Users\\PC\\AppData\\Local\\Temp\\ipykernel_15252\\2256381513.py:61: FutureWarning: The behavior of DataFrame concatenation with empty or all-NA entries is deprecated. In a future version, this will no longer exclude empty or all-NA columns when determining the result dtypes. To retain the old behavior, exclude the relevant entries before the concat operation.\n",
      "  simple_queries_results = pd.concat([pd.DataFrame([[precision, recall, latency_ret]], columns=simple_queries_results.columns), simple_queries_results], ignore_index=True)\n",
      "C:\\Users\\PC\\AppData\\Local\\Temp\\ipykernel_15252\\2256381513.py:66: FutureWarning: The behavior of DataFrame concatenation with empty or all-NA entries is deprecated. In a future version, this will no longer exclude empty or all-NA columns when determining the result dtypes. To retain the old behavior, exclude the relevant entries before the concat operation.\n",
      "  simple_queries_overall = pd.concat([pd.DataFrame([[at_k ,precision_atk, recall_atk, lat_ret]], columns=simple_queries_overall.columns), simple_queries_overall], ignore_index=True)\n"
     ]
    },
    {
     "name": "stdout",
     "output_type": "stream",
     "text": [
      "@3\n"
     ]
    },
    {
     "name": "stderr",
     "output_type": "stream",
     "text": [
      "C:\\Users\\PC\\AppData\\Local\\Temp\\ipykernel_15252\\2256381513.py:61: FutureWarning: The behavior of DataFrame concatenation with empty or all-NA entries is deprecated. In a future version, this will no longer exclude empty or all-NA columns when determining the result dtypes. To retain the old behavior, exclude the relevant entries before the concat operation.\n",
      "  simple_queries_results = pd.concat([pd.DataFrame([[precision, recall, latency_ret]], columns=simple_queries_results.columns), simple_queries_results], ignore_index=True)\n"
     ]
    },
    {
     "name": "stdout",
     "output_type": "stream",
     "text": [
      "@5\n"
     ]
    },
    {
     "name": "stderr",
     "output_type": "stream",
     "text": [
      "C:\\Users\\PC\\AppData\\Local\\Temp\\ipykernel_15252\\2256381513.py:61: FutureWarning: The behavior of DataFrame concatenation with empty or all-NA entries is deprecated. In a future version, this will no longer exclude empty or all-NA columns when determining the result dtypes. To retain the old behavior, exclude the relevant entries before the concat operation.\n",
      "  simple_queries_results = pd.concat([pd.DataFrame([[precision, recall, latency_ret]], columns=simple_queries_results.columns), simple_queries_results], ignore_index=True)\n"
     ]
    },
    {
     "ename": "KeyboardInterrupt",
     "evalue": "",
     "output_type": "error",
     "traceback": [
      "\u001b[1;31m---------------------------------------------------------------------------\u001b[0m",
      "\u001b[1;31mKeyboardInterrupt\u001b[0m                         Traceback (most recent call last)",
      "Cell \u001b[1;32mIn[20], line 50\u001b[0m\n\u001b[0;32m     48\u001b[0m expected_titles \u001b[38;5;241m=\u001b[39m [data[\u001b[38;5;124m'\u001b[39m\u001b[38;5;124mtitle\u001b[39m\u001b[38;5;124m'\u001b[39m] \u001b[38;5;28;01mfor\u001b[39;00m data \u001b[38;5;129;01min\u001b[39;00m get_titles(ids)]\n\u001b[0;32m     49\u001b[0m body[\u001b[38;5;124m\"\u001b[39m\u001b[38;5;124mquery\u001b[39m\u001b[38;5;124m\"\u001b[39m] \u001b[38;5;241m=\u001b[39m question\n\u001b[1;32m---> 50\u001b[0m response \u001b[38;5;241m=\u001b[39m \u001b[43mrequests\u001b[49m\u001b[38;5;241;43m.\u001b[39;49m\u001b[43mpost\u001b[49m\u001b[43m(\u001b[49m\u001b[43mtest_api\u001b[49m\u001b[43m,\u001b[49m\u001b[43m \u001b[49m\u001b[43mjson\u001b[49m\u001b[38;5;241;43m=\u001b[39;49m\u001b[43mbody\u001b[49m\u001b[43m)\u001b[49m\n\u001b[0;32m     51\u001b[0m \u001b[38;5;66;03m# get_titles(ids)\u001b[39;00m\n\u001b[0;32m     52\u001b[0m result \u001b[38;5;241m=\u001b[39m json\u001b[38;5;241m.\u001b[39mloads(response\u001b[38;5;241m.\u001b[39mtext)\n",
      "File \u001b[1;32md:\\Apps\\anaconda3\\envs\\local_ai\\lib\\site-packages\\requests\\api.py:115\u001b[0m, in \u001b[0;36mpost\u001b[1;34m(url, data, json, **kwargs)\u001b[0m\n\u001b[0;32m    103\u001b[0m \u001b[38;5;28;01mdef\u001b[39;00m\u001b[38;5;250m \u001b[39m\u001b[38;5;21mpost\u001b[39m(url, data\u001b[38;5;241m=\u001b[39m\u001b[38;5;28;01mNone\u001b[39;00m, json\u001b[38;5;241m=\u001b[39m\u001b[38;5;28;01mNone\u001b[39;00m, \u001b[38;5;241m*\u001b[39m\u001b[38;5;241m*\u001b[39mkwargs):\n\u001b[0;32m    104\u001b[0m \u001b[38;5;250m    \u001b[39m\u001b[38;5;124mr\u001b[39m\u001b[38;5;124;03m\"\"\"Sends a POST request.\u001b[39;00m\n\u001b[0;32m    105\u001b[0m \n\u001b[0;32m    106\u001b[0m \u001b[38;5;124;03m    :param url: URL for the new :class:`Request` object.\u001b[39;00m\n\u001b[1;32m   (...)\u001b[0m\n\u001b[0;32m    112\u001b[0m \u001b[38;5;124;03m    :rtype: requests.Response\u001b[39;00m\n\u001b[0;32m    113\u001b[0m \u001b[38;5;124;03m    \"\"\"\u001b[39;00m\n\u001b[1;32m--> 115\u001b[0m     \u001b[38;5;28;01mreturn\u001b[39;00m request(\u001b[38;5;124m\"\u001b[39m\u001b[38;5;124mpost\u001b[39m\u001b[38;5;124m\"\u001b[39m, url, data\u001b[38;5;241m=\u001b[39mdata, json\u001b[38;5;241m=\u001b[39mjson, \u001b[38;5;241m*\u001b[39m\u001b[38;5;241m*\u001b[39mkwargs)\n",
      "File \u001b[1;32md:\\Apps\\anaconda3\\envs\\local_ai\\lib\\site-packages\\requests\\api.py:59\u001b[0m, in \u001b[0;36mrequest\u001b[1;34m(method, url, **kwargs)\u001b[0m\n\u001b[0;32m     55\u001b[0m \u001b[38;5;66;03m# By using the 'with' statement we are sure the session is closed, thus we\u001b[39;00m\n\u001b[0;32m     56\u001b[0m \u001b[38;5;66;03m# avoid leaving sockets open which can trigger a ResourceWarning in some\u001b[39;00m\n\u001b[0;32m     57\u001b[0m \u001b[38;5;66;03m# cases, and look like a memory leak in others.\u001b[39;00m\n\u001b[0;32m     58\u001b[0m \u001b[38;5;28;01mwith\u001b[39;00m sessions\u001b[38;5;241m.\u001b[39mSession() \u001b[38;5;28;01mas\u001b[39;00m session:\n\u001b[1;32m---> 59\u001b[0m     \u001b[38;5;28;01mreturn\u001b[39;00m session\u001b[38;5;241m.\u001b[39mrequest(method\u001b[38;5;241m=\u001b[39mmethod, url\u001b[38;5;241m=\u001b[39murl, \u001b[38;5;241m*\u001b[39m\u001b[38;5;241m*\u001b[39mkwargs)\n",
      "File \u001b[1;32md:\\Apps\\anaconda3\\envs\\local_ai\\lib\\site-packages\\requests\\sessions.py:589\u001b[0m, in \u001b[0;36mSession.request\u001b[1;34m(self, method, url, params, data, headers, cookies, files, auth, timeout, allow_redirects, proxies, hooks, stream, verify, cert, json)\u001b[0m\n\u001b[0;32m    584\u001b[0m send_kwargs \u001b[38;5;241m=\u001b[39m {\n\u001b[0;32m    585\u001b[0m     \u001b[38;5;124m\"\u001b[39m\u001b[38;5;124mtimeout\u001b[39m\u001b[38;5;124m\"\u001b[39m: timeout,\n\u001b[0;32m    586\u001b[0m     \u001b[38;5;124m\"\u001b[39m\u001b[38;5;124mallow_redirects\u001b[39m\u001b[38;5;124m\"\u001b[39m: allow_redirects,\n\u001b[0;32m    587\u001b[0m }\n\u001b[0;32m    588\u001b[0m send_kwargs\u001b[38;5;241m.\u001b[39mupdate(settings)\n\u001b[1;32m--> 589\u001b[0m resp \u001b[38;5;241m=\u001b[39m \u001b[38;5;28mself\u001b[39m\u001b[38;5;241m.\u001b[39msend(prep, \u001b[38;5;241m*\u001b[39m\u001b[38;5;241m*\u001b[39msend_kwargs)\n\u001b[0;32m    591\u001b[0m \u001b[38;5;28;01mreturn\u001b[39;00m resp\n",
      "File \u001b[1;32md:\\Apps\\anaconda3\\envs\\local_ai\\lib\\site-packages\\requests\\sessions.py:703\u001b[0m, in \u001b[0;36mSession.send\u001b[1;34m(self, request, **kwargs)\u001b[0m\n\u001b[0;32m    700\u001b[0m start \u001b[38;5;241m=\u001b[39m preferred_clock()\n\u001b[0;32m    702\u001b[0m \u001b[38;5;66;03m# Send the request\u001b[39;00m\n\u001b[1;32m--> 703\u001b[0m r \u001b[38;5;241m=\u001b[39m adapter\u001b[38;5;241m.\u001b[39msend(request, \u001b[38;5;241m*\u001b[39m\u001b[38;5;241m*\u001b[39mkwargs)\n\u001b[0;32m    705\u001b[0m \u001b[38;5;66;03m# Total elapsed time of the request (approximately)\u001b[39;00m\n\u001b[0;32m    706\u001b[0m elapsed \u001b[38;5;241m=\u001b[39m preferred_clock() \u001b[38;5;241m-\u001b[39m start\n",
      "File \u001b[1;32md:\\Apps\\anaconda3\\envs\\local_ai\\lib\\site-packages\\requests\\adapters.py:667\u001b[0m, in \u001b[0;36mHTTPAdapter.send\u001b[1;34m(self, request, stream, timeout, verify, cert, proxies)\u001b[0m\n\u001b[0;32m    664\u001b[0m     timeout \u001b[38;5;241m=\u001b[39m TimeoutSauce(connect\u001b[38;5;241m=\u001b[39mtimeout, read\u001b[38;5;241m=\u001b[39mtimeout)\n\u001b[0;32m    666\u001b[0m \u001b[38;5;28;01mtry\u001b[39;00m:\n\u001b[1;32m--> 667\u001b[0m     resp \u001b[38;5;241m=\u001b[39m \u001b[43mconn\u001b[49m\u001b[38;5;241;43m.\u001b[39;49m\u001b[43murlopen\u001b[49m\u001b[43m(\u001b[49m\n\u001b[0;32m    668\u001b[0m \u001b[43m        \u001b[49m\u001b[43mmethod\u001b[49m\u001b[38;5;241;43m=\u001b[39;49m\u001b[43mrequest\u001b[49m\u001b[38;5;241;43m.\u001b[39;49m\u001b[43mmethod\u001b[49m\u001b[43m,\u001b[49m\n\u001b[0;32m    669\u001b[0m \u001b[43m        \u001b[49m\u001b[43murl\u001b[49m\u001b[38;5;241;43m=\u001b[39;49m\u001b[43murl\u001b[49m\u001b[43m,\u001b[49m\n\u001b[0;32m    670\u001b[0m \u001b[43m        \u001b[49m\u001b[43mbody\u001b[49m\u001b[38;5;241;43m=\u001b[39;49m\u001b[43mrequest\u001b[49m\u001b[38;5;241;43m.\u001b[39;49m\u001b[43mbody\u001b[49m\u001b[43m,\u001b[49m\n\u001b[0;32m    671\u001b[0m \u001b[43m        \u001b[49m\u001b[43mheaders\u001b[49m\u001b[38;5;241;43m=\u001b[39;49m\u001b[43mrequest\u001b[49m\u001b[38;5;241;43m.\u001b[39;49m\u001b[43mheaders\u001b[49m\u001b[43m,\u001b[49m\n\u001b[0;32m    672\u001b[0m \u001b[43m        \u001b[49m\u001b[43mredirect\u001b[49m\u001b[38;5;241;43m=\u001b[39;49m\u001b[38;5;28;43;01mFalse\u001b[39;49;00m\u001b[43m,\u001b[49m\n\u001b[0;32m    673\u001b[0m \u001b[43m        \u001b[49m\u001b[43massert_same_host\u001b[49m\u001b[38;5;241;43m=\u001b[39;49m\u001b[38;5;28;43;01mFalse\u001b[39;49;00m\u001b[43m,\u001b[49m\n\u001b[0;32m    674\u001b[0m \u001b[43m        \u001b[49m\u001b[43mpreload_content\u001b[49m\u001b[38;5;241;43m=\u001b[39;49m\u001b[38;5;28;43;01mFalse\u001b[39;49;00m\u001b[43m,\u001b[49m\n\u001b[0;32m    675\u001b[0m \u001b[43m        \u001b[49m\u001b[43mdecode_content\u001b[49m\u001b[38;5;241;43m=\u001b[39;49m\u001b[38;5;28;43;01mFalse\u001b[39;49;00m\u001b[43m,\u001b[49m\n\u001b[0;32m    676\u001b[0m \u001b[43m        \u001b[49m\u001b[43mretries\u001b[49m\u001b[38;5;241;43m=\u001b[39;49m\u001b[38;5;28;43mself\u001b[39;49m\u001b[38;5;241;43m.\u001b[39;49m\u001b[43mmax_retries\u001b[49m\u001b[43m,\u001b[49m\n\u001b[0;32m    677\u001b[0m \u001b[43m        \u001b[49m\u001b[43mtimeout\u001b[49m\u001b[38;5;241;43m=\u001b[39;49m\u001b[43mtimeout\u001b[49m\u001b[43m,\u001b[49m\n\u001b[0;32m    678\u001b[0m \u001b[43m        \u001b[49m\u001b[43mchunked\u001b[49m\u001b[38;5;241;43m=\u001b[39;49m\u001b[43mchunked\u001b[49m\u001b[43m,\u001b[49m\n\u001b[0;32m    679\u001b[0m \u001b[43m    \u001b[49m\u001b[43m)\u001b[49m\n\u001b[0;32m    681\u001b[0m \u001b[38;5;28;01mexcept\u001b[39;00m (ProtocolError, \u001b[38;5;167;01mOSError\u001b[39;00m) \u001b[38;5;28;01mas\u001b[39;00m err:\n\u001b[0;32m    682\u001b[0m     \u001b[38;5;28;01mraise\u001b[39;00m \u001b[38;5;167;01mConnectionError\u001b[39;00m(err, request\u001b[38;5;241m=\u001b[39mrequest)\n",
      "File \u001b[1;32md:\\Apps\\anaconda3\\envs\\local_ai\\lib\\site-packages\\urllib3\\connectionpool.py:716\u001b[0m, in \u001b[0;36mHTTPConnectionPool.urlopen\u001b[1;34m(self, method, url, body, headers, retries, redirect, assert_same_host, timeout, pool_timeout, release_conn, chunked, body_pos, **response_kw)\u001b[0m\n\u001b[0;32m    713\u001b[0m     \u001b[38;5;28mself\u001b[39m\u001b[38;5;241m.\u001b[39m_prepare_proxy(conn)\n\u001b[0;32m    715\u001b[0m \u001b[38;5;66;03m# Make the request on the httplib connection object.\u001b[39;00m\n\u001b[1;32m--> 716\u001b[0m httplib_response \u001b[38;5;241m=\u001b[39m \u001b[38;5;28;43mself\u001b[39;49m\u001b[38;5;241;43m.\u001b[39;49m\u001b[43m_make_request\u001b[49m\u001b[43m(\u001b[49m\n\u001b[0;32m    717\u001b[0m \u001b[43m    \u001b[49m\u001b[43mconn\u001b[49m\u001b[43m,\u001b[49m\n\u001b[0;32m    718\u001b[0m \u001b[43m    \u001b[49m\u001b[43mmethod\u001b[49m\u001b[43m,\u001b[49m\n\u001b[0;32m    719\u001b[0m \u001b[43m    \u001b[49m\u001b[43murl\u001b[49m\u001b[43m,\u001b[49m\n\u001b[0;32m    720\u001b[0m \u001b[43m    \u001b[49m\u001b[43mtimeout\u001b[49m\u001b[38;5;241;43m=\u001b[39;49m\u001b[43mtimeout_obj\u001b[49m\u001b[43m,\u001b[49m\n\u001b[0;32m    721\u001b[0m \u001b[43m    \u001b[49m\u001b[43mbody\u001b[49m\u001b[38;5;241;43m=\u001b[39;49m\u001b[43mbody\u001b[49m\u001b[43m,\u001b[49m\n\u001b[0;32m    722\u001b[0m \u001b[43m    \u001b[49m\u001b[43mheaders\u001b[49m\u001b[38;5;241;43m=\u001b[39;49m\u001b[43mheaders\u001b[49m\u001b[43m,\u001b[49m\n\u001b[0;32m    723\u001b[0m \u001b[43m    \u001b[49m\u001b[43mchunked\u001b[49m\u001b[38;5;241;43m=\u001b[39;49m\u001b[43mchunked\u001b[49m\u001b[43m,\u001b[49m\n\u001b[0;32m    724\u001b[0m \u001b[43m\u001b[49m\u001b[43m)\u001b[49m\n\u001b[0;32m    726\u001b[0m \u001b[38;5;66;03m# If we're going to release the connection in ``finally:``, then\u001b[39;00m\n\u001b[0;32m    727\u001b[0m \u001b[38;5;66;03m# the response doesn't need to know about the connection. Otherwise\u001b[39;00m\n\u001b[0;32m    728\u001b[0m \u001b[38;5;66;03m# it will also try to release it and we'll have a double-release\u001b[39;00m\n\u001b[0;32m    729\u001b[0m \u001b[38;5;66;03m# mess.\u001b[39;00m\n\u001b[0;32m    730\u001b[0m response_conn \u001b[38;5;241m=\u001b[39m conn \u001b[38;5;28;01mif\u001b[39;00m \u001b[38;5;129;01mnot\u001b[39;00m release_conn \u001b[38;5;28;01melse\u001b[39;00m \u001b[38;5;28;01mNone\u001b[39;00m\n",
      "File \u001b[1;32md:\\Apps\\anaconda3\\envs\\local_ai\\lib\\site-packages\\urllib3\\connectionpool.py:468\u001b[0m, in \u001b[0;36mHTTPConnectionPool._make_request\u001b[1;34m(self, conn, method, url, timeout, chunked, **httplib_request_kw)\u001b[0m\n\u001b[0;32m    463\u001b[0m             httplib_response \u001b[38;5;241m=\u001b[39m conn\u001b[38;5;241m.\u001b[39mgetresponse()\n\u001b[0;32m    464\u001b[0m         \u001b[38;5;28;01mexcept\u001b[39;00m \u001b[38;5;167;01mBaseException\u001b[39;00m \u001b[38;5;28;01mas\u001b[39;00m e:\n\u001b[0;32m    465\u001b[0m             \u001b[38;5;66;03m# Remove the TypeError from the exception chain in\u001b[39;00m\n\u001b[0;32m    466\u001b[0m             \u001b[38;5;66;03m# Python 3 (including for exceptions like SystemExit).\u001b[39;00m\n\u001b[0;32m    467\u001b[0m             \u001b[38;5;66;03m# Otherwise it looks like a bug in the code.\u001b[39;00m\n\u001b[1;32m--> 468\u001b[0m             \u001b[43msix\u001b[49m\u001b[38;5;241;43m.\u001b[39;49m\u001b[43mraise_from\u001b[49m\u001b[43m(\u001b[49m\u001b[43me\u001b[49m\u001b[43m,\u001b[49m\u001b[43m \u001b[49m\u001b[38;5;28;43;01mNone\u001b[39;49;00m\u001b[43m)\u001b[49m\n\u001b[0;32m    469\u001b[0m \u001b[38;5;28;01mexcept\u001b[39;00m (SocketTimeout, BaseSSLError, SocketError) \u001b[38;5;28;01mas\u001b[39;00m e:\n\u001b[0;32m    470\u001b[0m     \u001b[38;5;28mself\u001b[39m\u001b[38;5;241m.\u001b[39m_raise_timeout(err\u001b[38;5;241m=\u001b[39me, url\u001b[38;5;241m=\u001b[39murl, timeout_value\u001b[38;5;241m=\u001b[39mread_timeout)\n",
      "File \u001b[1;32m<string>:3\u001b[0m, in \u001b[0;36mraise_from\u001b[1;34m(value, from_value)\u001b[0m\n",
      "File \u001b[1;32md:\\Apps\\anaconda3\\envs\\local_ai\\lib\\site-packages\\urllib3\\connectionpool.py:463\u001b[0m, in \u001b[0;36mHTTPConnectionPool._make_request\u001b[1;34m(self, conn, method, url, timeout, chunked, **httplib_request_kw)\u001b[0m\n\u001b[0;32m    460\u001b[0m \u001b[38;5;28;01mexcept\u001b[39;00m \u001b[38;5;167;01mTypeError\u001b[39;00m:\n\u001b[0;32m    461\u001b[0m     \u001b[38;5;66;03m# Python 3\u001b[39;00m\n\u001b[0;32m    462\u001b[0m     \u001b[38;5;28;01mtry\u001b[39;00m:\n\u001b[1;32m--> 463\u001b[0m         httplib_response \u001b[38;5;241m=\u001b[39m \u001b[43mconn\u001b[49m\u001b[38;5;241;43m.\u001b[39;49m\u001b[43mgetresponse\u001b[49m\u001b[43m(\u001b[49m\u001b[43m)\u001b[49m\n\u001b[0;32m    464\u001b[0m     \u001b[38;5;28;01mexcept\u001b[39;00m \u001b[38;5;167;01mBaseException\u001b[39;00m \u001b[38;5;28;01mas\u001b[39;00m e:\n\u001b[0;32m    465\u001b[0m         \u001b[38;5;66;03m# Remove the TypeError from the exception chain in\u001b[39;00m\n\u001b[0;32m    466\u001b[0m         \u001b[38;5;66;03m# Python 3 (including for exceptions like SystemExit).\u001b[39;00m\n\u001b[0;32m    467\u001b[0m         \u001b[38;5;66;03m# Otherwise it looks like a bug in the code.\u001b[39;00m\n\u001b[0;32m    468\u001b[0m         six\u001b[38;5;241m.\u001b[39mraise_from(e, \u001b[38;5;28;01mNone\u001b[39;00m)\n",
      "File \u001b[1;32md:\\Apps\\anaconda3\\envs\\local_ai\\lib\\http\\client.py:1375\u001b[0m, in \u001b[0;36mHTTPConnection.getresponse\u001b[1;34m(self)\u001b[0m\n\u001b[0;32m   1373\u001b[0m \u001b[38;5;28;01mtry\u001b[39;00m:\n\u001b[0;32m   1374\u001b[0m     \u001b[38;5;28;01mtry\u001b[39;00m:\n\u001b[1;32m-> 1375\u001b[0m         \u001b[43mresponse\u001b[49m\u001b[38;5;241;43m.\u001b[39;49m\u001b[43mbegin\u001b[49m\u001b[43m(\u001b[49m\u001b[43m)\u001b[49m\n\u001b[0;32m   1376\u001b[0m     \u001b[38;5;28;01mexcept\u001b[39;00m \u001b[38;5;167;01mConnectionError\u001b[39;00m:\n\u001b[0;32m   1377\u001b[0m         \u001b[38;5;28mself\u001b[39m\u001b[38;5;241m.\u001b[39mclose()\n",
      "File \u001b[1;32md:\\Apps\\anaconda3\\envs\\local_ai\\lib\\http\\client.py:318\u001b[0m, in \u001b[0;36mHTTPResponse.begin\u001b[1;34m(self)\u001b[0m\n\u001b[0;32m    316\u001b[0m \u001b[38;5;66;03m# read until we get a non-100 response\u001b[39;00m\n\u001b[0;32m    317\u001b[0m \u001b[38;5;28;01mwhile\u001b[39;00m \u001b[38;5;28;01mTrue\u001b[39;00m:\n\u001b[1;32m--> 318\u001b[0m     version, status, reason \u001b[38;5;241m=\u001b[39m \u001b[38;5;28;43mself\u001b[39;49m\u001b[38;5;241;43m.\u001b[39;49m\u001b[43m_read_status\u001b[49m\u001b[43m(\u001b[49m\u001b[43m)\u001b[49m\n\u001b[0;32m    319\u001b[0m     \u001b[38;5;28;01mif\u001b[39;00m status \u001b[38;5;241m!=\u001b[39m CONTINUE:\n\u001b[0;32m    320\u001b[0m         \u001b[38;5;28;01mbreak\u001b[39;00m\n",
      "File \u001b[1;32md:\\Apps\\anaconda3\\envs\\local_ai\\lib\\http\\client.py:279\u001b[0m, in \u001b[0;36mHTTPResponse._read_status\u001b[1;34m(self)\u001b[0m\n\u001b[0;32m    278\u001b[0m \u001b[38;5;28;01mdef\u001b[39;00m\u001b[38;5;250m \u001b[39m\u001b[38;5;21m_read_status\u001b[39m(\u001b[38;5;28mself\u001b[39m):\n\u001b[1;32m--> 279\u001b[0m     line \u001b[38;5;241m=\u001b[39m \u001b[38;5;28mstr\u001b[39m(\u001b[38;5;28;43mself\u001b[39;49m\u001b[38;5;241;43m.\u001b[39;49m\u001b[43mfp\u001b[49m\u001b[38;5;241;43m.\u001b[39;49m\u001b[43mreadline\u001b[49m\u001b[43m(\u001b[49m\u001b[43m_MAXLINE\u001b[49m\u001b[43m \u001b[49m\u001b[38;5;241;43m+\u001b[39;49m\u001b[43m \u001b[49m\u001b[38;5;241;43m1\u001b[39;49m\u001b[43m)\u001b[49m, \u001b[38;5;124m\"\u001b[39m\u001b[38;5;124miso-8859-1\u001b[39m\u001b[38;5;124m\"\u001b[39m)\n\u001b[0;32m    280\u001b[0m     \u001b[38;5;28;01mif\u001b[39;00m \u001b[38;5;28mlen\u001b[39m(line) \u001b[38;5;241m>\u001b[39m _MAXLINE:\n\u001b[0;32m    281\u001b[0m         \u001b[38;5;28;01mraise\u001b[39;00m LineTooLong(\u001b[38;5;124m\"\u001b[39m\u001b[38;5;124mstatus line\u001b[39m\u001b[38;5;124m\"\u001b[39m)\n",
      "File \u001b[1;32md:\\Apps\\anaconda3\\envs\\local_ai\\lib\\socket.py:717\u001b[0m, in \u001b[0;36mSocketIO.readinto\u001b[1;34m(self, b)\u001b[0m\n\u001b[0;32m    715\u001b[0m \u001b[38;5;28;01mwhile\u001b[39;00m \u001b[38;5;28;01mTrue\u001b[39;00m:\n\u001b[0;32m    716\u001b[0m     \u001b[38;5;28;01mtry\u001b[39;00m:\n\u001b[1;32m--> 717\u001b[0m         \u001b[38;5;28;01mreturn\u001b[39;00m \u001b[38;5;28;43mself\u001b[39;49m\u001b[38;5;241;43m.\u001b[39;49m\u001b[43m_sock\u001b[49m\u001b[38;5;241;43m.\u001b[39;49m\u001b[43mrecv_into\u001b[49m\u001b[43m(\u001b[49m\u001b[43mb\u001b[49m\u001b[43m)\u001b[49m\n\u001b[0;32m    718\u001b[0m     \u001b[38;5;28;01mexcept\u001b[39;00m timeout:\n\u001b[0;32m    719\u001b[0m         \u001b[38;5;28mself\u001b[39m\u001b[38;5;241m.\u001b[39m_timeout_occurred \u001b[38;5;241m=\u001b[39m \u001b[38;5;28;01mTrue\u001b[39;00m\n",
      "\u001b[1;31mKeyboardInterrupt\u001b[0m: "
     ]
    }
   ],
   "source": [
    "# test simple queries\n",
    "\n",
    "# idx_param = 0\n",
    "\n",
    "for sparse_weight_iter in range(2,5,1):\n",
    "    for dense_text_weight_iter in range(2,5,1):\n",
    "        for dense_code_weight_iter in range(2,5,1):\n",
    "            for radius_sparse_iter in range(40, 50, 10):\n",
    "                for radius_dense_text_iter in range(40, 50, 10):\n",
    "                    for radius_dense_code_iter in range(40, 50, 10):\n",
    "                        simple_queries_overall = pd.DataFrame(columns=[\"K\", \"Precision@K\", \"Recall@K\", \"Latency\"])\n",
    "                        \n",
    "                        sparse_weight = sparse_weight_iter / 10\n",
    "                        dense_text_weight = dense_text_weight_iter / 10\n",
    "                        dense_code_weight = dense_code_weight_iter / 10\n",
    "                        \n",
    "                        radius_sparse = radius_sparse_iter / 100\n",
    "                        radius_dense_text = radius_dense_text_iter / 100\n",
    "                        radius_dense_code = radius_dense_code_iter / 100\n",
    "                        \n",
    "                        for at_k in [1,3,5,7]:\n",
    "                            body = {\n",
    "                                \"version_name\": \"v15.3.1\",\n",
    "                                \"query\": \"\",\n",
    "                                \"model\": \"llama3.2:3b\",\n",
    "                                \"additional_options\": {\n",
    "                                    \"retriever_options\": {\n",
    "                                        \"top_k\": at_k,\n",
    "                                        \"sparse_weight\": sparse_weight,\n",
    "                                        \"dense_text_weight\": dense_text_weight,\n",
    "                                        \"dense_code_weight\": dense_code_weight,\n",
    "                                        \"range_sparse\": 1,\n",
    "                                        \"range_dense_text\": 1,\n",
    "                                        \"range_dense_code\": 1,\n",
    "                                        \"radius_sparse\": radius_sparse,\n",
    "                                        \"radius_dense_text\": radius_dense_text,\n",
    "                                        \"radius_dense_code\": radius_dense_code\n",
    "                                    },\n",
    "                                    \"generator_options\": {}\n",
    "                                }\n",
    "                            }\n",
    "                            print(f\"@{at_k}\")\n",
    "                            simple_queries_results = pd.DataFrame(columns=[\"Precision\", \"Recall\", \"Latency\"])\n",
    "                            save_file_name = f\"simple_queries_results_at{at_k}.csv\"\n",
    "                            for index, row in simple_queries.iterrows():\n",
    "                                question = row[\"Question\"]\n",
    "                                ids = row[\"Expected\"].split(\",\")\n",
    "                                expected_titles = [data['title'] for data in get_titles(ids)]\n",
    "                                body[\"query\"] = question\n",
    "                                response = requests.post(test_api, json=body)\n",
    "                                # get_titles(ids)\n",
    "                                result = json.loads(response.text)\n",
    "                                retrieved_docs = [doc['title'] for doc in result['context']]\n",
    "                                # print(\"=======\")\n",
    "                                # print(\"Expected:\",expected_titles)\n",
    "                                # print(\"Got\",retrieved_docs)\n",
    "                                precision = precision_at_k(at_k, expected_titles, retrieved_docs)\n",
    "                                recall = recall_at_k(at_k, expected_titles, retrieved_docs)\n",
    "                                # print(f\"Precision: {precision}, Recall: {recall}\")\n",
    "                                latency_ret = result['search_time']\n",
    "                                simple_queries_results = pd.concat([pd.DataFrame([[precision, recall, latency_ret]], columns=simple_queries_results.columns), simple_queries_results], ignore_index=True)\n",
    "                            # simple_queries_results.to_csv(os.path.join('results', save_file_name), sep=',', encoding='utf-8')\n",
    "                            precision_atk = simple_queries_results['Precision'].mean()\n",
    "                            recall_atk = simple_queries_results['Recall'].mean()\n",
    "                            lat_ret = simple_queries_results['Latency'].mean()\n",
    "                            simple_queries_overall = pd.concat([pd.DataFrame([[at_k ,precision_atk, recall_atk, lat_ret]], columns=simple_queries_overall.columns), simple_queries_overall], ignore_index=True)\n",
    "                        # result = json.loads(response.text)\n",
    "                        # print(result)\n",
    "                        file_name = os.path.join('more_results', f\"simple_queries_overall_{sparse_weight}_{dense_text_weight}_{dense_code_weight}_range_1_radius_{radius_sparse}_{radius_dense_text}_{radius_dense_code}.csv\")\n",
    "                        simple_queries_overall.to_csv(file_name, sep=',', encoding='utf-8')"
   ]
  },
  {
   "cell_type": "code",
   "execution_count": 10,
   "metadata": {},
   "outputs": [
    {
     "name": "stdout",
     "output_type": "stream",
     "text": [
      "@1\n",
      "Precision: 0.0, Recall: 0.0\n"
     ]
    },
    {
     "name": "stderr",
     "output_type": "stream",
     "text": [
      "C:\\Users\\PC\\AppData\\Local\\Temp\\ipykernel_3732\\3661239888.py:35: FutureWarning: The behavior of DataFrame concatenation with empty or all-NA entries is deprecated. In a future version, this will no longer exclude empty or all-NA columns when determining the result dtypes. To retain the old behavior, exclude the relevant entries before the concat operation.\n",
      "  complex_queries_results = pd.concat([pd.DataFrame([[precision, recall, latency_ret, latency_gen]], columns=complex_queries_results.columns), complex_queries_results], ignore_index=True)\n"
     ]
    },
    {
     "name": "stdout",
     "output_type": "stream",
     "text": [
      "Precision: 0.0, Recall: 0.0\n",
      "Precision: 1.0, Recall: 0.25\n",
      "Precision: 0.0, Recall: 0.0\n",
      "Precision: 0.0, Recall: 0.0\n",
      "Precision: 0.0, Recall: 0.0\n",
      "Precision: 0.0, Recall: 0.0\n",
      "Precision: 0.0, Recall: 0.0\n",
      "Precision: 0.0, Recall: 0.0\n",
      "Precision: 0.0, Recall: 0.0\n",
      "Precision: 0.0, Recall: 0.0\n",
      "Precision: 0.0, Recall: 0.0\n",
      "Precision: 0.0, Recall: 0.0\n",
      "Precision: 0.0, Recall: 0.0\n",
      "Precision: 0.0, Recall: 0.0\n",
      "@3\n"
     ]
    },
    {
     "name": "stderr",
     "output_type": "stream",
     "text": [
      "C:\\Users\\PC\\AppData\\Local\\Temp\\ipykernel_3732\\3661239888.py:41: FutureWarning: The behavior of DataFrame concatenation with empty or all-NA entries is deprecated. In a future version, this will no longer exclude empty or all-NA columns when determining the result dtypes. To retain the old behavior, exclude the relevant entries before the concat operation.\n",
      "  complex_queries_overall = pd.concat([pd.DataFrame([[at_k ,precision_atk, recall_atk, lat_ret, lat_gen]], columns=complex_queries_overall.columns), complex_queries_overall], ignore_index=True)\n"
     ]
    },
    {
     "name": "stdout",
     "output_type": "stream",
     "text": [
      "Precision: 0.3333333333333333, Recall: 0.2\n"
     ]
    },
    {
     "name": "stderr",
     "output_type": "stream",
     "text": [
      "C:\\Users\\PC\\AppData\\Local\\Temp\\ipykernel_3732\\3661239888.py:35: FutureWarning: The behavior of DataFrame concatenation with empty or all-NA entries is deprecated. In a future version, this will no longer exclude empty or all-NA columns when determining the result dtypes. To retain the old behavior, exclude the relevant entries before the concat operation.\n",
      "  complex_queries_results = pd.concat([pd.DataFrame([[precision, recall, latency_ret, latency_gen]], columns=complex_queries_results.columns), complex_queries_results], ignore_index=True)\n"
     ]
    },
    {
     "name": "stdout",
     "output_type": "stream",
     "text": [
      "Precision: 0.3333333333333333, Recall: 0.2\n",
      "Precision: 0.0, Recall: 0.0\n",
      "Precision: 0.3333333333333333, Recall: 0.25\n",
      "Precision: 0.3333333333333333, Recall: 0.2\n",
      "Precision: 0.0, Recall: 0.0\n",
      "Precision: 0.3333333333333333, Recall: 0.08333333333333333\n",
      "Precision: 0.3333333333333333, Recall: 0.125\n",
      "Precision: 0.3333333333333333, Recall: 0.14285714285714285\n",
      "Precision: 0.3333333333333333, Recall: 0.125\n",
      "Precision: 0.0, Recall: 0.0\n",
      "Precision: 0.0, Recall: 0.0\n",
      "Precision: 0.3333333333333333, Recall: 0.2\n",
      "Precision: 0.3333333333333333, Recall: 0.125\n",
      "Precision: 0.3333333333333333, Recall: 0.2\n",
      "@5\n",
      "Precision: 0.4, Recall: 0.4\n"
     ]
    },
    {
     "name": "stderr",
     "output_type": "stream",
     "text": [
      "C:\\Users\\PC\\AppData\\Local\\Temp\\ipykernel_3732\\3661239888.py:35: FutureWarning: The behavior of DataFrame concatenation with empty or all-NA entries is deprecated. In a future version, this will no longer exclude empty or all-NA columns when determining the result dtypes. To retain the old behavior, exclude the relevant entries before the concat operation.\n",
      "  complex_queries_results = pd.concat([pd.DataFrame([[precision, recall, latency_ret, latency_gen]], columns=complex_queries_results.columns), complex_queries_results], ignore_index=True)\n"
     ]
    },
    {
     "name": "stdout",
     "output_type": "stream",
     "text": [
      "Precision: 0.4, Recall: 0.4\n",
      "Precision: 0.0, Recall: 0.0\n",
      "Precision: 0.4, Recall: 0.5\n",
      "Precision: 0.0, Recall: 0.0\n",
      "Precision: 0.0, Recall: 0.0\n",
      "Precision: 0.4, Recall: 0.16666666666666666\n",
      "Precision: 0.4, Recall: 0.25\n",
      "Precision: 0.4, Recall: 0.2857142857142857\n",
      "Precision: 0.4, Recall: 0.25\n",
      "Precision: 0.2, Recall: 0.2\n",
      "Precision: 0.2, Recall: 0.14285714285714285\n",
      "Precision: 0.4, Recall: 0.4\n",
      "Precision: 0.4, Recall: 0.25\n",
      "Precision: 0.4, Recall: 0.4\n",
      "@7\n",
      "Precision: 0.2857142857142857, Recall: 0.4\n"
     ]
    },
    {
     "name": "stderr",
     "output_type": "stream",
     "text": [
      "C:\\Users\\PC\\AppData\\Local\\Temp\\ipykernel_3732\\3661239888.py:35: FutureWarning: The behavior of DataFrame concatenation with empty or all-NA entries is deprecated. In a future version, this will no longer exclude empty or all-NA columns when determining the result dtypes. To retain the old behavior, exclude the relevant entries before the concat operation.\n",
      "  complex_queries_results = pd.concat([pd.DataFrame([[precision, recall, latency_ret, latency_gen]], columns=complex_queries_results.columns), complex_queries_results], ignore_index=True)\n"
     ]
    },
    {
     "name": "stdout",
     "output_type": "stream",
     "text": [
      "Precision: 0.2857142857142857, Recall: 0.4\n",
      "Precision: 0.0, Recall: 0.0\n",
      "Precision: 0.2857142857142857, Recall: 0.5\n",
      "Precision: 0.0, Recall: 0.0\n",
      "Precision: 0.0, Recall: 0.0\n",
      "Precision: 0.2857142857142857, Recall: 0.16666666666666666\n",
      "Precision: 0.2857142857142857, Recall: 0.25\n",
      "Precision: 0.2857142857142857, Recall: 0.2857142857142857\n",
      "Precision: 0.2857142857142857, Recall: 0.25\n",
      "Precision: 0.14285714285714285, Recall: 0.2\n",
      "Precision: 0.14285714285714285, Recall: 0.14285714285714285\n",
      "Precision: 0.2857142857142857, Recall: 0.4\n",
      "Precision: 0.2857142857142857, Recall: 0.25\n",
      "Precision: 0.2857142857142857, Recall: 0.4\n"
     ]
    }
   ],
   "source": [
    "# test complex queries\n",
    "complex_queries_overall = pd.DataFrame(columns=[\"K\", \"Precision@K\", \"Recall@K\", \"Latency-Retriever\", \"Latency-Generator\"])\n",
    "\n",
    "for at_k in [1,3,5,7]:\n",
    "    body = {\n",
    "        \"version_name\": \"v15.3.1\",\n",
    "        \"query\": \"\",\n",
    "        \"model\": \"llama3.2:3b\",\n",
    "        \"additional_options\": {\n",
    "            \"retriever_options\": {\n",
    "            \"top_k\": at_k},\n",
    "            \"generator_options\": {}\n",
    "        }\n",
    "    }\n",
    "    print(f\"@{at_k}\")\n",
    "    complex_queries_results = pd.DataFrame(columns=[\"Precision\", \"Recall\", \"Latency-Retriever\", \"Latency-Generator\"])\n",
    "    save_file_name = f\"complex_queries_results_at{at_k}.csv\"\n",
    "    for index, row in complex_queries.iterrows():\n",
    "        question = row[\"Question\"]\n",
    "        ids = row[\"Expected\"].split(\",\")\n",
    "        expected_titles = [data['title'] for data in get_titles(ids)]\n",
    "        body[\"query\"] = question\n",
    "        response = requests.post(test_api, json=body)\n",
    "        # get_titles(ids)\n",
    "        result = json.loads(response.text)\n",
    "        retrieved_docs = result['retrieved_data']['docs']\n",
    "        # print(\"=======\")\n",
    "        # print(\"Expected:\",expected_titles)\n",
    "        # print(\"Got\",retrieved_docs)\n",
    "        precision = precision_at_k(at_k, expected_titles, retrieved_docs)\n",
    "        recall = recall_at_k(at_k, expected_titles, retrieved_docs)\n",
    "        print(f\"Precision: {precision}, Recall: {recall}\")\n",
    "        latency_ret = result['latency']['retrieve_time']\n",
    "        latency_gen = result['latency']['generate_time']\n",
    "        complex_queries_results = pd.concat([pd.DataFrame([[precision, recall, latency_ret, latency_gen]], columns=complex_queries_results.columns), complex_queries_results], ignore_index=True)\n",
    "    complex_queries_results.to_csv(os.path.join('results', save_file_name), sep=',', encoding='utf-8')\n",
    "    precision_atk = complex_queries_results['Precision'].mean()\n",
    "    recall_atk = complex_queries_results['Recall'].mean()\n",
    "    lat_ret = complex_queries_results['Latency-Retriever'].mean()\n",
    "    lat_gen = complex_queries_results['Latency-Generator'].mean()\n",
    "    complex_queries_overall = pd.concat([pd.DataFrame([[at_k ,precision_atk, recall_atk, lat_ret, lat_gen]], columns=complex_queries_overall.columns), complex_queries_overall], ignore_index=True)\n",
    "# result = json.loads(response.text)\n",
    "# print(result)\n",
    "complex_queries_overall.to_csv(\"complex_queries_overall.csv\", sep=',', encoding='utf-8')"
   ]
  },
  {
   "cell_type": "code",
   "execution_count": 11,
   "metadata": {},
   "outputs": [],
   "source": [
    "# precision_mean = complex_queries_results['Precision'].mean()\n",
    "# recall_mean = complex_queries_results['Recall'].mean()\n",
    "# latency_ret_mean = complex_queries_results['Latency-Retriever'].mean()\n",
    "# latency_gen_mean = complex_queries_results['Latency-Generator'].mean()\n",
    "\n",
    "# print(f\"Precision: {precision_mean}, Recall: {recall_mean}, Latency-Retriever: {latency_ret_mean}, Latency-Generator: {latency_gen_mean}\")"
   ]
  },
  {
   "cell_type": "code",
   "execution_count": null,
   "metadata": {},
   "outputs": [],
   "source": []
  }
 ],
 "metadata": {
  "kernelspec": {
   "display_name": "local_ai",
   "language": "python",
   "name": "python3"
  },
  "language_info": {
   "codemirror_mode": {
    "name": "ipython",
    "version": 3
   },
   "file_extension": ".py",
   "mimetype": "text/x-python",
   "name": "python",
   "nbconvert_exporter": "python",
   "pygments_lexer": "ipython3",
   "version": "3.10.17"
  }
 },
 "nbformat": 4,
 "nbformat_minor": 2
}
